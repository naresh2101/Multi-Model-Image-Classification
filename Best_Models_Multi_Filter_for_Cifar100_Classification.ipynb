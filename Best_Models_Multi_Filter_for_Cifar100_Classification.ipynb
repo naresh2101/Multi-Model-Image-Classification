{
  "nbformat": 4,
  "nbformat_minor": 0,
  "metadata": {
    "colab": {
      "name": "Best_Models_Multi_Filter_for_Cifar100_Classification.ipynb",
      "provenance": [],
      "collapsed_sections": [],
      "authorship_tag": "ABX9TyO9yASeG62xgwSJEt/idX9E"
    },
    "kernelspec": {
      "name": "python3",
      "display_name": "Python 3"
    },
    "accelerator": "GPU"
  },
  "cells": [
    {
      "cell_type": "code",
      "metadata": {
        "id": "ra_eLrog3-2Q",
        "colab_type": "code",
        "colab": {}
      },
      "source": [
        "from __future__ import absolute_import, division, print_function, unicode_literals"
      ],
      "execution_count": 0,
      "outputs": []
    },
    {
      "cell_type": "code",
      "metadata": {
        "id": "jEVbPuyjFSE-",
        "colab_type": "code",
        "outputId": "dfb6ac69-0473-4805-9bed-62784fa9dc4a",
        "colab": {
          "base_uri": "https://localhost:8080/",
          "height": 34
        }
      },
      "source": [
        "try: \n",
        "  # %tensorflow_version only exists in Colab.\n",
        "  %tensorflow_version 2.x\n",
        "except Exception:\n",
        "  pass"
      ],
      "execution_count": 2,
      "outputs": [
        {
          "output_type": "stream",
          "text": [
            "TensorFlow 2.x selected.\n"
          ],
          "name": "stdout"
        }
      ]
    },
    {
      "cell_type": "code",
      "metadata": {
        "id": "PeghrQ56FSYP",
        "colab_type": "code",
        "outputId": "cf394121-2ba5-485e-e0d8-4ddb912b699f",
        "colab": {
          "base_uri": "https://localhost:8080/",
          "height": 51
        }
      },
      "source": [
        "%tensorflow_version 2.x\n",
        "import tensorflow as tf\n",
        "import tensorflow_datasets as tfds\n",
        "\n",
        "from tensorflow.keras import datasets, layers, models\n",
        "from tensorflow.keras.models import Sequential\n",
        "from tensorflow.keras.models import Model,load_model\n",
        "from tensorflow.keras.layers import Conv2D, ZeroPadding2D, Activation, Input, concatenate\n",
        "from tensorflow.keras.layers import Dense, Flatten, Dropout, Lambda, Permute, Reshape\n",
        "from tensorflow.keras.layers import BatchNormalization\n",
        "from tensorflow.keras.layers import MaxPooling2D, AveragePooling2D, GlobalAveragePooling2D\n",
        "from keras.layers.merge import Concatenate\n",
        "from tensorflow.keras.metrics import categorical_accuracy\n",
        "from tensorflow.keras.preprocessing.image import ImageDataGenerator\n",
        "from tensorflow.keras.initializers import glorot_uniform\n",
        "from tensorflow.keras import applications, losses, optimizers\n",
        "from keras.callbacks import EarlyStopping\n",
        "from keras.utils import to_categorical\n",
        "from tensorflow.python.framework import ops\n",
        "from tensorflow.python.framework.ops import Tensor\n",
        "from typing import Tuple, List\n",
        "from tensorflow.keras.callbacks import History\n",
        "from tensorflow.keras.callbacks import ModelCheckpoint, TensorBoard\n",
        "from keras.datasets import cifar100\n",
        "from keras.engine import training\n",
        "from keras.utils import plot_model\n",
        "from tensorflow.keras import regularizers\n",
        "\n",
        "print(tf.__version__)"
      ],
      "execution_count": 3,
      "outputs": [
        {
          "output_type": "stream",
          "text": [
            "2.1.0\n"
          ],
          "name": "stdout"
        },
        {
          "output_type": "stream",
          "text": [
            "Using TensorFlow backend.\n"
          ],
          "name": "stderr"
        }
      ]
    },
    {
      "cell_type": "code",
      "metadata": {
        "id": "144igCUUFSmk",
        "colab_type": "code",
        "colab": {}
      },
      "source": [
        "from scipy.spatial import distance\n",
        "from PIL import Image\n",
        "from keras.preprocessing import image\n",
        "from sklearn.preprocessing import OneHotEncoder,LabelEncoder"
      ],
      "execution_count": 0,
      "outputs": []
    },
    {
      "cell_type": "code",
      "metadata": {
        "id": "UJM_zLX6FTA3",
        "colab_type": "code",
        "colab": {}
      },
      "source": [
        "import matplotlib.pyplot as plt\n",
        "import numpy as np\n",
        "import os\n",
        "import cv2\n",
        "import glob \n",
        "from numpy import genfromtxt\n",
        "import pandas as pd"
      ],
      "execution_count": 0,
      "outputs": []
    },
    {
      "cell_type": "code",
      "metadata": {
        "id": "vrahmvkVFTbD",
        "colab_type": "code",
        "colab": {}
      },
      "source": [
        "def load_data() -> Tuple[np.ndarray, np.ndarray, \n",
        "                          np.ndarray, np.ndarray]:\n",
        "    (x_train, y_train), (x_test, y_test) = datasets.cifar100.load_data()\n",
        "    x_train = x_train / 255.\n",
        "    x_test = x_test / 255.\n",
        "    return x_train, x_test, y_train, y_test"
      ],
      "execution_count": 0,
      "outputs": []
    },
    {
      "cell_type": "code",
      "metadata": {
        "id": "eWeFu3UQFTzz",
        "colab_type": "code",
        "outputId": "fa5575ae-d390-42f0-d769-dfc2cf5287c7",
        "colab": {
          "base_uri": "https://localhost:8080/",
          "height": 51
        }
      },
      "source": [
        "x_train, x_test, y_train, y_test = load_data()\n",
        "print('x_train shape: {} | y_train shape: {}\\nx_test shape : {} | y_test shape : {}'.format(x_train.shape, y_train.shape, \n",
        "x_test.shape, y_test.shape))\n",
        "y_train_label = to_categorical(y_train, num_classes=100)\n",
        "y_test_label = to_categorical(y_test, num_classes=100)"
      ],
      "execution_count": 0,
      "outputs": [
        {
          "output_type": "stream",
          "text": [
            "x_train shape: (50000, 32, 32, 3) | y_train shape: (50000, 1)\n",
            "x_test shape : (10000, 32, 32, 3) | y_test shape : (10000, 1)\n"
          ],
          "name": "stdout"
        }
      ]
    },
    {
      "cell_type": "markdown",
      "metadata": {
        "id": "AV3aNueOXsyO",
        "colab_type": "text"
      },
      "source": [
        ""
      ]
    },
    {
      "cell_type": "code",
      "metadata": {
        "id": "51jlCLYseQ0t",
        "colab_type": "code",
        "colab": {}
      },
      "source": [
        "# define constants\n",
        "batch_size = 128\n",
        "epoch_max = 75\n",
        "# CIFAR-10 constants\n",
        "img_size = 32\n",
        "img_channels = 3\n",
        "num_classes = 100\n",
        "steps_per_epoch = int(x_train.shape[0] / batch_size)\n",
        "l2_norm = regularizers.l2(0.000025)\n",
        "\n",
        "filepath='keras_model_conv2D'"
      ],
      "execution_count": 0,
      "outputs": []
    },
    {
      "cell_type": "code",
      "metadata": {
        "id": "vMNll5fHFUJF",
        "colab_type": "code",
        "colab": {}
      },
      "source": [
        "input_shape = x_train[0,:,:,:].shape\n",
        "model_input = tf.keras.layers.Input(shape=input_shape)"
      ],
      "execution_count": 0,
      "outputs": []
    },
    {
      "cell_type": "code",
      "metadata": {
        "id": "kBZw1r_DZ-Jt",
        "colab_type": "code",
        "colab": {}
      },
      "source": [
        "lr_schedule = tf.keras.optimizers.schedules.InverseTimeDecay(\n",
        "  0.001,\n",
        "  decay_steps=steps_per_epoch * 1000,\n",
        "  decay_rate=1,\n",
        "  staircase=False)\n",
        "\n",
        "def get_optimizer():\n",
        "  return tf.keras.optimizers.Adam(lr_schedule)"
      ],
      "execution_count": 0,
      "outputs": []
    },
    {
      "cell_type": "code",
      "metadata": {
        "id": "kjnb6JD3Qs3M",
        "colab_type": "code",
        "outputId": "03f12e10-f4c2-4ce1-e33d-bbbea0553a09",
        "colab": {
          "base_uri": "https://localhost:8080/",
          "height": 589
        }
      },
      "source": [
        "plt.figure(figsize=(10,10))\n",
        "for i in range(25):\n",
        "    plt.subplot(5,5,i+1)\n",
        "    plt.xticks([])\n",
        "    plt.yticks([])\n",
        "    plt.grid(False)\n",
        "    plt.imshow(x_train[i], cmap=plt.cm.binary)\n",
        "    # The CIFAR labels happen to be arrays, \n",
        "    # which is why you need the extra index\n",
        "    plt.xlabel(y_train_label[i][0])\n",
        "plt.show()"
      ],
      "execution_count": 0,
      "outputs": [
        {
          "output_type": "display_data",
          "data": {
            "image/png": "[encoded data removed]",
            "text/plain": [
              "<Figure size 720x720 with 25 Axes>"
            ]
          },
          "metadata": {
            "tags": []
          }
        }
      ]
    },
    {
      "cell_type": "code",
      "metadata": {
        "id": "-HhMy9OOnI5d",
        "colab_type": "code",
        "colab": {}
      },
      "source": [
        "def plot_validation_history(model, hist, plt_path):\n",
        "  # Plot training & validation accuracy values\n",
        "  plt.plot(hist.history['accuracy'])\n",
        "  plt.plot(hist.history['val_accuracy'])\n",
        "  plt.title('Model accuracy')\n",
        "  plt.ylabel('Accuracy')\n",
        "  plt.xlabel('Epoch')\n",
        "  plt.legend(['Train', 'Test'], loc='upper left')\n",
        "  plt.show()\n",
        "\n",
        "  # Plot training & validation loss values\n",
        "  plt.plot(hist.history['loss'])\n",
        "  plt.plot(hist.history['val_loss'])\n",
        "  plt.title('Model loss')\n",
        "  plt.ylabel('Loss')\n",
        "  plt.xlabel('Epoch')\n",
        "  plt.legend(['Train', 'Test'], loc='upper left')\n",
        "  plt.show()\n",
        "  #plot_model(model, to_file= plt_path)"
      ],
      "execution_count": 0,
      "outputs": []
    },
    {
      "cell_type": "code",
      "metadata": {
        "id": "j02sdR4zJ8_m",
        "colab_type": "code",
        "colab": {}
      },
      "source": [
        "early_stop = EarlyStopping(monitor='loss', min_delta=0, patience=7, verbose=1)\n",
        "\n",
        "ckpt_callback = ModelCheckpoint(filepath,\n",
        "                                 monitor='val_loss', \n",
        "                                 verbose=1, \n",
        "                                 save_best_only=True, \n",
        "                                 mode='auto')\n",
        "\n",
        "def evaluate(model, hist, plt_path):\n",
        "    score = model.evaluate(x_test, y_test_label, verbose=0)\n",
        "    print('Test loss: %.3f' % score[0])\n",
        "    print('> Test accuracy: %.3f' % (score[1] * 100.0))"
      ],
      "execution_count": 0,
      "outputs": []
    },
    {
      "cell_type": "code",
      "metadata": {
        "id": "NJaGyd4wFUiT",
        "colab_type": "code",
        "colab": {}
      },
      "source": [
        "def compile_with_train_generator(model: training.Model, num_epochs: int, batch_size: int) -> Tuple [History, str]:\n",
        "  adam_opt = get_optimizer()\n",
        "  model.compile(optimizer = adam_opt, loss = 'categorical_crossentropy', metrics=['accuracy'])\n",
        "  \n",
        "  # create data generator\n",
        "  datagen = ImageDataGenerator(width_shift_range=0.1, height_shift_range=0.1, horizontal_flip=True, zoom_range = 0.1) #, shear_range = 0.1\n",
        "  # prepare iterator\n",
        "  it_train = datagen.flow(x_train, y_train_label, batch_size=batch_size)\n",
        "  # fit model\n",
        "  steps = int(x_train.shape[0] / batch_size)\n",
        "  history = model.fit_generator(it_train, steps_per_epoch=steps, epochs= num_epochs, validation_data=(x_test, y_test_label), callbacks=[early_stop], verbose=1)\n",
        "  \n",
        "  weight_files = \"\" #glob.glob(os.path.join(os.getcwd(), 'weights/*'))\n",
        "  weight_file = \"model\" #max(weight_files, key=os.path.getctime) # most recent file\n",
        "  return history, weight_file"
      ],
      "execution_count": 0,
      "outputs": []
    },
    {
      "cell_type": "code",
      "metadata": {
        "id": "JsQHgQzLGRxm",
        "colab_type": "code",
        "colab": {}
      },
      "source": [
        "def all_stack_cnn_filter_size4_strid2(model_input: Tensor) -> training.Model:\n",
        "    x1 = Conv2D(32, kernel_size=(4, 4), activation='tanh', padding = 'same')(model_input)\n",
        "    x1 = Conv2D(32, (4, 4), activation='elu', padding = 'same', kernel_initializer='he_uniform')(x1)\n",
        "    x1 = Dropout(0.2) (x1)\n",
        "    x1 = BatchNormalization()(x1)\n",
        "    x1 = Conv2D(32, (4, 4), activation='elu', padding = 'same', strides = 2, kernel_initializer='he_uniform')(x1)\n",
        "\n",
        "    x1 = Conv2D(64, (4, 4), activation='elu', padding = 'same', kernel_initializer='he_uniform')(x1)\n",
        "    x1 = Conv2D(64, (4, 4), activation='elu', padding = 'same', kernel_initializer='he_uniform')(x1)\n",
        "    x1 = Dropout(0.3) (x1)\n",
        "    x1 = BatchNormalization()(x1)\n",
        "    x1 = Conv2D(64, (4, 4), activation='elu', padding = 'same', strides = 2, kernel_initializer='he_uniform')(x1)\n",
        "\n",
        "    x = Conv2D(64, (4, 4), activation='elu', padding = 'same', kernel_initializer='he_uniform')(x1)\n",
        "    x = Dropout(0.4) (x)\n",
        "    x = BatchNormalization()(x)\n",
        "    \n",
        "    x = Conv2D(100, (1, 1))(x)\n",
        "    x = GlobalAveragePooling2D()(x)\n",
        "    x = Activation(activation='softmax')(x)\n",
        "\n",
        "    model = Model(model_input, x, name='all_stack_cnn_filter_size4_strid2')\n",
        "    \n",
        "    return model"
      ],
      "execution_count": 0,
      "outputs": []
    },
    {
      "cell_type": "code",
      "metadata": {
        "id": "hsGTmKtzGaMY",
        "colab_type": "code",
        "outputId": "5c6baa21-02a9-4505-ff9c-11f6f715f7c1",
        "colab": {
          "base_uri": "https://localhost:8080/",
          "height": 1000
        }
      },
      "source": [
        "batch_size = 128\n",
        "num_epochs = 100\n",
        "all_stack_cnn_filter_size4_strid2_model = all_stack_cnn_filter_size4_strid2(model_input)\n",
        "isFile = os.path.isfile(\"all_stack_cnn_filter_size4_strid2.h5\")\n",
        "if isFile :\n",
        "  all_stack_cnn_filter_size4_strid2_model.load_weights('all_stack_cnn_filter_size4_strid2.h5')\n",
        "  \n",
        "hist, conv_pool_cnn_weight_file = compile_with_train_generator(all_stack_cnn_filter_size4_strid2_model, num_epochs, batch_size)\n",
        "\n",
        "evaluate(all_stack_cnn_filter_size4_strid2_model, hist, 'output/all_stack_cnn_filter_size4_strid2.png')\n",
        "all_stack_cnn_filter_size4_strid2_model.save('all_stack_cnn_filter_size4_strid2.h5')"
      ],
      "execution_count": 0,
      "outputs": [
        {
          "output_type": "stream",
          "text": [
            "WARNING:tensorflow:sample_weight modes were coerced from\n",
            "  ...\n",
            "    to  \n",
            "  ['...']\n",
            "Train for 390 steps, validate on 10000 samples\n",
            "Epoch 1/100\n",
            "390/390 [==============================] - 23s 59ms/step - loss: 1.3965 - accuracy: 0.6012 - val_loss: 1.7111 - val_accuracy: 0.5498\n",
            "Epoch 2/100\n",
            "390/390 [==============================] - 22s 57ms/step - loss: 1.3661 - accuracy: 0.6082 - val_loss: 1.9270 - val_accuracy: 0.5144\n",
            "Epoch 3/100\n",
            "390/390 [==============================] - 22s 56ms/step - loss: 1.3510 - accuracy: 0.6142 - val_loss: 1.6534 - val_accuracy: 0.5573\n",
            "Epoch 4/100\n",
            "390/390 [==============================] - 22s 58ms/step - loss: 1.3363 - accuracy: 0.6152 - val_loss: 1.6560 - val_accuracy: 0.5636\n",
            "Epoch 5/100\n",
            "390/390 [==============================] - 22s 56ms/step - loss: 1.3187 - accuracy: 0.6221 - val_loss: 1.6275 - val_accuracy: 0.5669\n",
            "Epoch 6/100\n",
            "390/390 [==============================] - 22s 57ms/step - loss: 1.3081 - accuracy: 0.6229 - val_loss: 1.7277 - val_accuracy: 0.5520\n",
            "Epoch 7/100\n",
            "390/390 [==============================] - 22s 56ms/step - loss: 1.2949 - accuracy: 0.6275 - val_loss: 1.6370 - val_accuracy: 0.5627\n",
            "Epoch 8/100\n",
            "390/390 [==============================] - 22s 57ms/step - loss: 1.2810 - accuracy: 0.6287 - val_loss: 1.5609 - val_accuracy: 0.5772\n",
            "Epoch 9/100\n",
            "390/390 [==============================] - 22s 57ms/step - loss: 1.2818 - accuracy: 0.6293 - val_loss: 1.5574 - val_accuracy: 0.5747\n",
            "Epoch 10/100\n",
            "390/390 [==============================] - 23s 58ms/step - loss: 1.2746 - accuracy: 0.6283 - val_loss: 1.5580 - val_accuracy: 0.5799\n",
            "Epoch 11/100\n",
            "390/390 [==============================] - 22s 56ms/step - loss: 1.2634 - accuracy: 0.6342 - val_loss: 1.5694 - val_accuracy: 0.5787\n",
            "Epoch 12/100\n",
            "390/390 [==============================] - 22s 57ms/step - loss: 1.2453 - accuracy: 0.6392 - val_loss: 1.4954 - val_accuracy: 0.5902\n",
            "Epoch 13/100\n",
            "390/390 [==============================] - 22s 58ms/step - loss: 1.2497 - accuracy: 0.6378 - val_loss: 1.6647 - val_accuracy: 0.5548\n",
            "Epoch 14/100\n",
            "390/390 [==============================] - 23s 58ms/step - loss: 1.2368 - accuracy: 0.6426 - val_loss: 1.5933 - val_accuracy: 0.5829\n",
            "Epoch 15/100\n",
            "390/390 [==============================] - 22s 57ms/step - loss: 1.2290 - accuracy: 0.6405 - val_loss: 1.5551 - val_accuracy: 0.5871\n",
            "Epoch 16/100\n",
            "390/390 [==============================] - 22s 57ms/step - loss: 1.2321 - accuracy: 0.6411 - val_loss: 1.6258 - val_accuracy: 0.5741\n",
            "Epoch 17/100\n",
            "390/390 [==============================] - 22s 57ms/step - loss: 1.2195 - accuracy: 0.6458 - val_loss: 1.6400 - val_accuracy: 0.5722\n",
            "Epoch 18/100\n",
            "390/390 [==============================] - 23s 58ms/step - loss: 1.2181 - accuracy: 0.6469 - val_loss: 1.6801 - val_accuracy: 0.5629\n",
            "Epoch 19/100\n",
            "390/390 [==============================] - 23s 58ms/step - loss: 1.2093 - accuracy: 0.6472 - val_loss: 1.5339 - val_accuracy: 0.5879\n",
            "Epoch 20/100\n",
            "390/390 [==============================] - 23s 58ms/step - loss: 1.2051 - accuracy: 0.6485 - val_loss: 1.5152 - val_accuracy: 0.5928\n",
            "Epoch 21/100\n",
            "390/390 [==============================] - 22s 57ms/step - loss: 1.1997 - accuracy: 0.6482 - val_loss: 1.6187 - val_accuracy: 0.5786\n",
            "Epoch 22/100\n",
            "390/390 [==============================] - 22s 57ms/step - loss: 1.1945 - accuracy: 0.6521 - val_loss: 1.5395 - val_accuracy: 0.5917\n",
            "Epoch 23/100\n",
            "390/390 [==============================] - 23s 58ms/step - loss: 1.1863 - accuracy: 0.6525 - val_loss: 1.5732 - val_accuracy: 0.5874\n",
            "Epoch 24/100\n",
            "390/390 [==============================] - 22s 57ms/step - loss: 1.1848 - accuracy: 0.6517 - val_loss: 1.5636 - val_accuracy: 0.5861\n",
            "Epoch 25/100\n",
            "390/390 [==============================] - 22s 57ms/step - loss: 1.1805 - accuracy: 0.6542 - val_loss: 1.6467 - val_accuracy: 0.5798\n",
            "Epoch 26/100\n",
            "390/390 [==============================] - 22s 58ms/step - loss: 1.1791 - accuracy: 0.6552 - val_loss: 1.5725 - val_accuracy: 0.5872\n",
            "Epoch 27/100\n",
            "390/390 [==============================] - 22s 58ms/step - loss: 1.1729 - accuracy: 0.6548 - val_loss: 1.6505 - val_accuracy: 0.5675\n",
            "Epoch 28/100\n",
            "390/390 [==============================] - 22s 57ms/step - loss: 1.1606 - accuracy: 0.6588 - val_loss: 1.5903 - val_accuracy: 0.5864\n",
            "Epoch 29/100\n",
            "390/390 [==============================] - 22s 57ms/step - loss: 1.1604 - accuracy: 0.6588 - val_loss: 1.5248 - val_accuracy: 0.5939\n",
            "Epoch 30/100\n",
            "390/390 [==============================] - 22s 57ms/step - loss: 1.1630 - accuracy: 0.6568 - val_loss: 1.5253 - val_accuracy: 0.5895\n",
            "Epoch 31/100\n",
            "390/390 [==============================] - 23s 58ms/step - loss: 1.1554 - accuracy: 0.6609 - val_loss: 1.7727 - val_accuracy: 0.5570\n",
            "Epoch 32/100\n",
            "390/390 [==============================] - 22s 57ms/step - loss: 1.1625 - accuracy: 0.6585 - val_loss: 1.5733 - val_accuracy: 0.5874\n",
            "Epoch 33/100\n",
            "390/390 [==============================] - 22s 57ms/step - loss: 1.1476 - accuracy: 0.6635 - val_loss: 1.4871 - val_accuracy: 0.6017\n",
            "Epoch 34/100\n",
            "390/390 [==============================] - 23s 58ms/step - loss: 1.1381 - accuracy: 0.6647 - val_loss: 1.6300 - val_accuracy: 0.5797\n",
            "Epoch 35/100\n",
            "390/390 [==============================] - 23s 59ms/step - loss: 1.1488 - accuracy: 0.6636 - val_loss: 1.6158 - val_accuracy: 0.5782\n",
            "Epoch 36/100\n",
            "390/390 [==============================] - 23s 58ms/step - loss: 1.1481 - accuracy: 0.6631 - val_loss: 1.5160 - val_accuracy: 0.5921\n",
            "Epoch 37/100\n",
            "390/390 [==============================] - 23s 58ms/step - loss: 1.1342 - accuracy: 0.6662 - val_loss: 1.5412 - val_accuracy: 0.5922\n",
            "Epoch 38/100\n",
            "390/390 [==============================] - 23s 58ms/step - loss: 1.1360 - accuracy: 0.6652 - val_loss: 1.6741 - val_accuracy: 0.5752\n",
            "Epoch 39/100\n",
            "390/390 [==============================] - 23s 59ms/step - loss: 1.1245 - accuracy: 0.6662 - val_loss: 1.5817 - val_accuracy: 0.5859\n",
            "Epoch 40/100\n",
            "390/390 [==============================] - 23s 59ms/step - loss: 1.1285 - accuracy: 0.6690 - val_loss: 1.5401 - val_accuracy: 0.5933\n",
            "Epoch 41/100\n",
            "390/390 [==============================] - 23s 59ms/step - loss: 1.1350 - accuracy: 0.6673 - val_loss: 1.6079 - val_accuracy: 0.5807\n",
            "Epoch 42/100\n",
            "390/390 [==============================] - 23s 59ms/step - loss: 1.1182 - accuracy: 0.6710 - val_loss: 1.6211 - val_accuracy: 0.5817\n",
            "Epoch 43/100\n",
            "390/390 [==============================] - 23s 58ms/step - loss: 1.1153 - accuracy: 0.6721 - val_loss: 1.5105 - val_accuracy: 0.6058\n",
            "Epoch 44/100\n",
            "390/390 [==============================] - 22s 57ms/step - loss: 1.1199 - accuracy: 0.6699 - val_loss: 1.5146 - val_accuracy: 0.6027\n",
            "Epoch 45/100\n",
            "390/390 [==============================] - 22s 56ms/step - loss: 1.1121 - accuracy: 0.6715 - val_loss: 1.5737 - val_accuracy: 0.5928\n",
            "Epoch 46/100\n",
            "390/390 [==============================] - 22s 56ms/step - loss: 1.1119 - accuracy: 0.6729 - val_loss: 1.4764 - val_accuracy: 0.6079\n",
            "Epoch 47/100\n",
            "390/390 [==============================] - 22s 57ms/step - loss: 1.1091 - accuracy: 0.6729 - val_loss: 1.5126 - val_accuracy: 0.6010\n",
            "Epoch 48/100\n",
            "390/390 [==============================] - 22s 56ms/step - loss: 1.1097 - accuracy: 0.6746 - val_loss: 1.5851 - val_accuracy: 0.5956\n",
            "Epoch 49/100\n",
            "390/390 [==============================] - 22s 56ms/step - loss: 1.0998 - accuracy: 0.6764 - val_loss: 1.5497 - val_accuracy: 0.6011\n",
            "Epoch 50/100\n",
            "390/390 [==============================] - 22s 57ms/step - loss: 1.0966 - accuracy: 0.6772 - val_loss: 1.5682 - val_accuracy: 0.5910\n",
            "Epoch 51/100\n",
            "390/390 [==============================] - 22s 57ms/step - loss: 1.1029 - accuracy: 0.6725 - val_loss: 1.4888 - val_accuracy: 0.6053\n",
            "Epoch 52/100\n",
            "390/390 [==============================] - 22s 57ms/step - loss: 1.0927 - accuracy: 0.6761 - val_loss: 1.5229 - val_accuracy: 0.5937\n",
            "Epoch 53/100\n",
            "390/390 [==============================] - 22s 57ms/step - loss: 1.0917 - accuracy: 0.6762 - val_loss: 1.6426 - val_accuracy: 0.5833\n",
            "Epoch 54/100\n",
            "390/390 [==============================] - 22s 56ms/step - loss: 1.0944 - accuracy: 0.6759 - val_loss: 1.5587 - val_accuracy: 0.5943\n",
            "Epoch 55/100\n",
            "390/390 [==============================] - 22s 58ms/step - loss: 1.0923 - accuracy: 0.6752 - val_loss: 1.6009 - val_accuracy: 0.5875\n",
            "Epoch 56/100\n",
            "390/390 [==============================] - 22s 56ms/step - loss: 1.0866 - accuracy: 0.6772 - val_loss: 1.4801 - val_accuracy: 0.6074\n",
            "Epoch 57/100\n",
            "390/390 [==============================] - 22s 56ms/step - loss: 1.0754 - accuracy: 0.6820 - val_loss: 1.5122 - val_accuracy: 0.6007\n",
            "Epoch 58/100\n",
            "390/390 [==============================] - 22s 57ms/step - loss: 1.0857 - accuracy: 0.6773 - val_loss: 1.5616 - val_accuracy: 0.5963\n",
            "Epoch 59/100\n",
            "390/390 [==============================] - 23s 58ms/step - loss: 1.0840 - accuracy: 0.6785 - val_loss: 1.4928 - val_accuracy: 0.6055\n",
            "Epoch 60/100\n",
            "390/390 [==============================] - 22s 56ms/step - loss: 1.0837 - accuracy: 0.6786 - val_loss: 1.5049 - val_accuracy: 0.6038\n",
            "Epoch 61/100\n",
            "390/390 [==============================] - 22s 57ms/step - loss: 1.0885 - accuracy: 0.6768 - val_loss: 1.4962 - val_accuracy: 0.6056\n",
            "Epoch 62/100\n",
            "390/390 [==============================] - 22s 57ms/step - loss: 1.0657 - accuracy: 0.6841 - val_loss: 1.5068 - val_accuracy: 0.6098\n",
            "Epoch 63/100\n",
            "390/390 [==============================] - 22s 58ms/step - loss: 1.0639 - accuracy: 0.6852 - val_loss: 1.5421 - val_accuracy: 0.5959\n",
            "Epoch 64/100\n",
            "390/390 [==============================] - 22s 56ms/step - loss: 1.0664 - accuracy: 0.6831 - val_loss: 1.5147 - val_accuracy: 0.6041\n",
            "Epoch 65/100\n",
            "390/390 [==============================] - 22s 57ms/step - loss: 1.0684 - accuracy: 0.6848 - val_loss: 1.5072 - val_accuracy: 0.6038\n",
            "Epoch 66/100\n",
            "390/390 [==============================] - 23s 58ms/step - loss: 1.0670 - accuracy: 0.6828 - val_loss: 1.4540 - val_accuracy: 0.6110\n",
            "Epoch 67/100\n",
            "390/390 [==============================] - 22s 57ms/step - loss: 1.0636 - accuracy: 0.6839 - val_loss: 1.4773 - val_accuracy: 0.6144\n",
            "Epoch 68/100\n",
            "390/390 [==============================] - 22s 58ms/step - loss: 1.0614 - accuracy: 0.6838 - val_loss: 1.5547 - val_accuracy: 0.5991\n",
            "Epoch 69/100\n",
            "390/390 [==============================] - 23s 58ms/step - loss: 1.0618 - accuracy: 0.6829 - val_loss: 1.5443 - val_accuracy: 0.5983\n",
            "Epoch 70/100\n",
            "390/390 [==============================] - 22s 57ms/step - loss: 1.0632 - accuracy: 0.6827 - val_loss: 1.4997 - val_accuracy: 0.6078\n",
            "Epoch 71/100\n",
            "390/390 [==============================] - 22s 57ms/step - loss: 1.0562 - accuracy: 0.6867 - val_loss: 1.5415 - val_accuracy: 0.6007\n",
            "Epoch 72/100\n",
            "390/390 [==============================] - 22s 56ms/step - loss: 1.0686 - accuracy: 0.6812 - val_loss: 1.5179 - val_accuracy: 0.6081\n",
            "Epoch 73/100\n",
            "390/390 [==============================] - 22s 57ms/step - loss: 1.0586 - accuracy: 0.6845 - val_loss: 1.5630 - val_accuracy: 0.5985\n",
            "Epoch 74/100\n",
            "390/390 [==============================] - 22s 57ms/step - loss: 1.0519 - accuracy: 0.6883 - val_loss: 1.5254 - val_accuracy: 0.6090\n",
            "Epoch 75/100\n",
            "390/390 [==============================] - 22s 56ms/step - loss: 1.0560 - accuracy: 0.6859 - val_loss: 1.5903 - val_accuracy: 0.5870\n",
            "Epoch 76/100\n",
            "390/390 [==============================] - 23s 58ms/step - loss: 1.0489 - accuracy: 0.6879 - val_loss: 1.5734 - val_accuracy: 0.5967\n",
            "Epoch 77/100\n",
            "390/390 [==============================] - 23s 59ms/step - loss: 1.0435 - accuracy: 0.6888 - val_loss: 1.5359 - val_accuracy: 0.5955\n",
            "Epoch 78/100\n",
            "390/390 [==============================] - 23s 58ms/step - loss: 1.0455 - accuracy: 0.6887 - val_loss: 1.6794 - val_accuracy: 0.5791\n",
            "Epoch 79/100\n",
            "390/390 [==============================] - 23s 58ms/step - loss: 1.0468 - accuracy: 0.6868 - val_loss: 1.4695 - val_accuracy: 0.6165\n",
            "Epoch 80/100\n",
            "390/390 [==============================] - 23s 58ms/step - loss: 1.0474 - accuracy: 0.6864 - val_loss: 1.6178 - val_accuracy: 0.5903\n",
            "Epoch 81/100\n",
            "390/390 [==============================] - 23s 58ms/step - loss: 1.0479 - accuracy: 0.6866 - val_loss: 1.4969 - val_accuracy: 0.6077\n",
            "Epoch 82/100\n",
            "390/390 [==============================] - 23s 59ms/step - loss: 1.0390 - accuracy: 0.6912 - val_loss: 1.5023 - val_accuracy: 0.6101\n",
            "Epoch 83/100\n",
            "390/390 [==============================] - 22s 58ms/step - loss: 1.0331 - accuracy: 0.6894 - val_loss: 1.5825 - val_accuracy: 0.5937\n",
            "Epoch 84/100\n",
            "390/390 [==============================] - 22s 58ms/step - loss: 1.0389 - accuracy: 0.6922 - val_loss: 1.5292 - val_accuracy: 0.6000\n",
            "Epoch 85/100\n",
            "390/390 [==============================] - 22s 57ms/step - loss: 1.0376 - accuracy: 0.6908 - val_loss: 1.4456 - val_accuracy: 0.6179\n",
            "Epoch 86/100\n",
            "390/390 [==============================] - 22s 57ms/step - loss: 1.0390 - accuracy: 0.6906 - val_loss: 1.5710 - val_accuracy: 0.6048\n",
            "Epoch 87/100\n",
            "390/390 [==============================] - 22s 56ms/step - loss: 1.0301 - accuracy: 0.6911 - val_loss: 1.4971 - val_accuracy: 0.6132\n",
            "Epoch 88/100\n",
            "390/390 [==============================] - 22s 56ms/step - loss: 1.0305 - accuracy: 0.6935 - val_loss: 1.5079 - val_accuracy: 0.6082\n",
            "Epoch 89/100\n",
            "390/390 [==============================] - 22s 56ms/step - loss: 1.0355 - accuracy: 0.6917 - val_loss: 1.5537 - val_accuracy: 0.5982\n",
            "Epoch 90/100\n",
            "390/390 [==============================] - 22s 57ms/step - loss: 1.0300 - accuracy: 0.6917 - val_loss: 1.4480 - val_accuracy: 0.6187\n",
            "Epoch 91/100\n",
            "390/390 [==============================] - 22s 56ms/step - loss: 1.0297 - accuracy: 0.6927 - val_loss: 1.6298 - val_accuracy: 0.5897\n",
            "Epoch 92/100\n",
            "390/390 [==============================] - 22s 56ms/step - loss: 1.0284 - accuracy: 0.6916 - val_loss: 1.4769 - val_accuracy: 0.6097\n",
            "Epoch 93/100\n",
            "390/390 [==============================] - 22s 56ms/step - loss: 1.0240 - accuracy: 0.6936 - val_loss: 1.5292 - val_accuracy: 0.6053\n",
            "Epoch 94/100\n",
            "390/390 [==============================] - 22s 56ms/step - loss: 1.0191 - accuracy: 0.6946 - val_loss: 1.6092 - val_accuracy: 0.5961\n",
            "Epoch 95/100\n",
            "390/390 [==============================] - 22s 56ms/step - loss: 1.0327 - accuracy: 0.6908 - val_loss: 1.5597 - val_accuracy: 0.5982\n",
            "Epoch 96/100\n",
            "390/390 [==============================] - 22s 57ms/step - loss: 1.0237 - accuracy: 0.6945 - val_loss: 1.5043 - val_accuracy: 0.6092\n",
            "Epoch 97/100\n",
            "390/390 [==============================] - 22s 57ms/step - loss: 1.0231 - accuracy: 0.6921 - val_loss: 1.4569 - val_accuracy: 0.6178\n",
            "Epoch 98/100\n",
            "390/390 [==============================] - 22s 56ms/step - loss: 1.0176 - accuracy: 0.6964 - val_loss: 1.4647 - val_accuracy: 0.6107\n",
            "Epoch 99/100\n",
            "390/390 [==============================] - 22s 56ms/step - loss: 1.0221 - accuracy: 0.6939 - val_loss: 1.6112 - val_accuracy: 0.5909\n",
            "Epoch 100/100\n",
            "390/390 [==============================] - 22s 56ms/step - loss: 1.0164 - accuracy: 0.6944 - val_loss: 1.5022 - val_accuracy: 0.6136\n",
            "Test loss: 1.502\n",
            "> Test accuracy: 61.360\n"
          ],
          "name": "stdout"
        }
      ]
    },
    {
      "cell_type": "code",
      "metadata": {
        "id": "8LXCw3Nb1YUr",
        "colab_type": "code",
        "outputId": "6782eee5-c446-490a-c66e-d900093925c6",
        "colab": {
          "base_uri": "https://localhost:8080/",
          "height": 590
        }
      },
      "source": [
        "plt_path = 'output/all_stack_cnn_filter_size4_strid2.png'\n",
        "plot_validation_history(all_stack_cnn_filter_size4_strid2_model, hist, plt_path)\n",
        "!ls"
      ],
      "execution_count": 0,
      "outputs": [
        {
          "output_type": "display_data",
          "data": {
            "image/png": "[encoded data removed]",
            "text/plain": [
              "<Figure size 432x288 with 1 Axes>"
            ]
          },
          "metadata": {
            "tags": []
          }
        },
        {
          "output_type": "display_data",
          "data": {
            "image/png": "[encoded data removed]",
            "text/plain": [
              "<Figure size 432x288 with 1 Axes>"
            ]
          },
          "metadata": {
            "tags": []
          }
        },
        {
          "output_type": "stream",
          "text": [
            "all_stack_cnn_filter_size4_strid2.h5  sample_data\n"
          ],
          "name": "stdout"
        }
      ]
    },
    {
      "cell_type": "code",
      "metadata": {
        "id": "QUC65kKOpJF7",
        "colab_type": "code",
        "outputId": "0f97ddb4-02ec-4877-ba03-11db23623a79",
        "colab": {
          "base_uri": "https://localhost:8080/",
          "height": 731
        }
      },
      "source": [
        "all_stack_cnn_filter_size4_strid2_model.summary()"
      ],
      "execution_count": 0,
      "outputs": [
        {
          "output_type": "stream",
          "text": [
            "Model: \"all_stack_cnn_filter_size4_strid2\"\n",
            "_________________________________________________________________\n",
            "Layer (type)                 Output Shape              Param #   \n",
            "=================================================================\n",
            "input_1 (InputLayer)         [(None, 32, 32, 3)]       0         \n",
            "_________________________________________________________________\n",
            "conv2d_40 (Conv2D)           (None, 32, 32, 32)        1568      \n",
            "_________________________________________________________________\n",
            "conv2d_41 (Conv2D)           (None, 32, 32, 32)        16416     \n",
            "_________________________________________________________________\n",
            "dropout_15 (Dropout)         (None, 32, 32, 32)        0         \n",
            "_________________________________________________________________\n",
            "batch_normalization_15 (Batc (None, 32, 32, 32)        128       \n",
            "_________________________________________________________________\n",
            "conv2d_42 (Conv2D)           (None, 16, 16, 32)        16416     \n",
            "_________________________________________________________________\n",
            "conv2d_43 (Conv2D)           (None, 16, 16, 64)        32832     \n",
            "_________________________________________________________________\n",
            "conv2d_44 (Conv2D)           (None, 16, 16, 64)        65600     \n",
            "_________________________________________________________________\n",
            "dropout_16 (Dropout)         (None, 16, 16, 64)        0         \n",
            "_________________________________________________________________\n",
            "batch_normalization_16 (Batc (None, 16, 16, 64)        256       \n",
            "_________________________________________________________________\n",
            "conv2d_45 (Conv2D)           (None, 8, 8, 64)          65600     \n",
            "_________________________________________________________________\n",
            "conv2d_46 (Conv2D)           (None, 8, 8, 64)          65600     \n",
            "_________________________________________________________________\n",
            "dropout_17 (Dropout)         (None, 8, 8, 64)          0         \n",
            "_________________________________________________________________\n",
            "batch_normalization_17 (Batc (None, 8, 8, 64)          256       \n",
            "_________________________________________________________________\n",
            "conv2d_47 (Conv2D)           (None, 8, 8, 100)         6500      \n",
            "_________________________________________________________________\n",
            "global_average_pooling2d_5 ( (None, 100)               0         \n",
            "_________________________________________________________________\n",
            "activation_5 (Activation)    (None, 100)               0         \n",
            "=================================================================\n",
            "Total params: 271,172\n",
            "Trainable params: 270,852\n",
            "Non-trainable params: 320\n",
            "_________________________________________________________________\n"
          ],
          "name": "stdout"
        }
      ]
    },
    {
      "cell_type": "code",
      "metadata": {
        "id": "Q5DlDW_sGcek",
        "colab_type": "code",
        "colab": {}
      },
      "source": [
        "def all_stack_cnn_diff_filter_size_strid2_inception(model_input: Tensor) -> training.Model:\n",
        "    x = Conv2D(64, kernel_size=(4, 4), activation='elu', padding = 'same', kernel_regularizer = l2_norm)(model_input)\n",
        "    x = Conv2D(64, (4, 4), activation='elu', padding = 'same', kernel_initializer='he_uniform', kernel_regularizer = l2_norm)(x)\n",
        "    x = Dropout(0.35) (x)\n",
        "    x = BatchNormalization()(x)\n",
        "    x = Conv2D(64, (4, 4), activation='elu', padding = 'same', strides = 2, kernel_initializer='he_uniform', kernel_regularizer = l2_norm)(x)\n",
        "\n",
        "    x2 = Conv2D(64, kernel_size=(3, 3), activation='relu', padding = 'same', kernel_regularizer = l2_norm)(x)\n",
        "    x2 = Conv2D(64, (3, 3), activation='elu', padding = 'same', kernel_initializer='he_uniform', kernel_regularizer = l2_norm)(x2)\n",
        "    x2 = Dropout(0.35) (x2)\n",
        "    x2 = BatchNormalization()(x2)\n",
        "    x2 = Conv2D(64, (3, 3), activation='elu', padding = 'same', strides = 2, kernel_initializer='he_uniform', kernel_regularizer = l2_norm)(x2)\n",
        "\n",
        "    x3 = Conv2D(64, kernel_size=(2, 2), activation='relu', padding = 'same')(x)\n",
        "    x3 = Conv2D(64, (2, 2), activation='elu', padding = 'same', kernel_initializer='he_uniform', kernel_regularizer = l2_norm)(x3)\n",
        "    x3 = Dropout(0.35) (x3)\n",
        "    x3 = BatchNormalization()(x3)\n",
        "    x3 = Conv2D(64, (2, 2), activation='elu', padding = 'same', strides = 2, kernel_initializer='he_uniform', kernel_regularizer = l2_norm)(x3)\n",
        "    x3 = Dropout(0.4) (x3)\n",
        "\n",
        "    x = layers.Add()([x2, x3])\n",
        "    x = Conv2D(100, (1, 1))(x)\n",
        "    x = GlobalAveragePooling2D()(x)\n",
        "    x = Activation(activation='softmax')(x)\n",
        "\n",
        "    model = Model(model_input, x, name='all_stack_cnn_diff_filter_size_strid2_inception')\n",
        "    \n",
        "    return model"
      ],
      "execution_count": 0,
      "outputs": []
    },
    {
      "cell_type": "code",
      "metadata": {
        "id": "5cVWSmc8Gc1F",
        "colab_type": "code",
        "outputId": "500fd99c-1ad8-4a8f-8eac-3d31073442e0",
        "colab": {
          "base_uri": "https://localhost:8080/",
          "height": 1000
        }
      },
      "source": [
        "batch_size = 128\n",
        "num_epochs = 100\n",
        "all_stack_cnn_diff_filter_size_strid2_inception_model = all_stack_cnn_diff_filter_size_strid2_inception(model_input)\n",
        "isFile = os.path.isfile(\"all_stack_cnn_diff_filter_size_strid2_inception.h5\")\n",
        "if isFile :\n",
        "  all_stack_cnn_diff_filter_size_strid2_inception_model.load_weights('all_stack_cnn_diff_filter_size_strid2_inception.h5')\n",
        "hist, conv_pool_cnn_weight_file = compile_with_train_generator(all_stack_cnn_diff_filter_size_strid2_inception_model, num_epochs, batch_size)\n",
        "\n",
        "all_stack_cnn_diff_filter_size_strid2_inception_model.save('all_stack_cnn_diff_filter_size_strid2_inception.h5')\n",
        "\n",
        "evaluate(all_stack_cnn_diff_filter_size_strid2_inception_model, hist, 'output/all_stack_cnn_diff_filter_size_strid2_inception.png')\n"
      ],
      "execution_count": 0,
      "outputs": [
        {
          "output_type": "stream",
          "text": [
            "WARNING:tensorflow:sample_weight modes were coerced from\n",
            "  ...\n",
            "    to  \n",
            "  ['...']\n",
            "Train for 390 steps, validate on 10000 samples\n",
            "Epoch 1/100\n",
            "390/390 [==============================] - 25s 65ms/step - loss: 4.0532 - accuracy: 0.0951 - val_loss: 3.8396 - val_accuracy: 0.1346\n",
            "Epoch 2/100\n",
            "390/390 [==============================] - 24s 61ms/step - loss: 3.4757 - accuracy: 0.1877 - val_loss: 3.5753 - val_accuracy: 0.1789\n",
            "Epoch 3/100\n",
            "390/390 [==============================] - 24s 62ms/step - loss: 3.1338 - accuracy: 0.2488 - val_loss: 3.1107 - val_accuracy: 0.2503\n",
            "Epoch 4/100\n",
            "390/390 [==============================] - 24s 62ms/step - loss: 2.9009 - accuracy: 0.2930 - val_loss: 2.9013 - val_accuracy: 0.2880\n",
            "Epoch 5/100\n",
            "390/390 [==============================] - 24s 61ms/step - loss: 2.7211 - accuracy: 0.3305 - val_loss: 2.7115 - val_accuracy: 0.3324\n",
            "Epoch 6/100\n",
            "390/390 [==============================] - 24s 62ms/step - loss: 2.5842 - accuracy: 0.3575 - val_loss: 2.7053 - val_accuracy: 0.3414\n",
            "Epoch 7/100\n",
            "390/390 [==============================] - 24s 61ms/step - loss: 2.4817 - accuracy: 0.3827 - val_loss: 2.6426 - val_accuracy: 0.3555\n",
            "Epoch 8/100\n",
            "390/390 [==============================] - 24s 61ms/step - loss: 2.3872 - accuracy: 0.4010 - val_loss: 2.6257 - val_accuracy: 0.3676\n",
            "Epoch 9/100\n",
            "390/390 [==============================] - 24s 62ms/step - loss: 2.3239 - accuracy: 0.4173 - val_loss: 2.3631 - val_accuracy: 0.4054\n",
            "Epoch 10/100\n",
            "390/390 [==============================] - 24s 61ms/step - loss: 2.2557 - accuracy: 0.4308 - val_loss: 2.4282 - val_accuracy: 0.4095\n",
            "Epoch 11/100\n",
            "390/390 [==============================] - 24s 62ms/step - loss: 2.2031 - accuracy: 0.4456 - val_loss: 2.4453 - val_accuracy: 0.4000\n",
            "Epoch 12/100\n",
            "390/390 [==============================] - 24s 61ms/step - loss: 2.1588 - accuracy: 0.4563 - val_loss: 2.3293 - val_accuracy: 0.4196\n",
            "Epoch 13/100\n",
            "390/390 [==============================] - 24s 62ms/step - loss: 2.1196 - accuracy: 0.4657 - val_loss: 2.3609 - val_accuracy: 0.4288\n",
            "Epoch 14/100\n",
            "390/390 [==============================] - 24s 62ms/step - loss: 2.0787 - accuracy: 0.4754 - val_loss: 2.1451 - val_accuracy: 0.4703\n",
            "Epoch 15/100\n",
            "390/390 [==============================] - 24s 61ms/step - loss: 2.0495 - accuracy: 0.4823 - val_loss: 2.2348 - val_accuracy: 0.4537\n",
            "Epoch 16/100\n",
            "390/390 [==============================] - 24s 62ms/step - loss: 2.0119 - accuracy: 0.4903 - val_loss: 2.2574 - val_accuracy: 0.4559\n",
            "Epoch 17/100\n",
            "390/390 [==============================] - 24s 61ms/step - loss: 1.9879 - accuracy: 0.4974 - val_loss: 2.3730 - val_accuracy: 0.4304\n",
            "Epoch 18/100\n",
            "390/390 [==============================] - 24s 61ms/step - loss: 1.9698 - accuracy: 0.5036 - val_loss: 2.1707 - val_accuracy: 0.4635\n",
            "Epoch 19/100\n",
            "390/390 [==============================] - 24s 62ms/step - loss: 1.9408 - accuracy: 0.5085 - val_loss: 2.2408 - val_accuracy: 0.4630\n",
            "Epoch 20/100\n",
            "390/390 [==============================] - 24s 61ms/step - loss: 1.9222 - accuracy: 0.5164 - val_loss: 2.0988 - val_accuracy: 0.4799\n",
            "Epoch 21/100\n",
            "390/390 [==============================] - 24s 61ms/step - loss: 1.9042 - accuracy: 0.5213 - val_loss: 2.3051 - val_accuracy: 0.4514\n",
            "Epoch 22/100\n",
            "390/390 [==============================] - 24s 61ms/step - loss: 1.8900 - accuracy: 0.5228 - val_loss: 2.1658 - val_accuracy: 0.4776\n",
            "Epoch 23/100\n",
            "390/390 [==============================] - 24s 61ms/step - loss: 1.8733 - accuracy: 0.5279 - val_loss: 1.9984 - val_accuracy: 0.5059\n",
            "Epoch 24/100\n",
            "390/390 [==============================] - 24s 61ms/step - loss: 1.8491 - accuracy: 0.5346 - val_loss: 2.0073 - val_accuracy: 0.5144\n",
            "Epoch 25/100\n",
            "390/390 [==============================] - 24s 61ms/step - loss: 1.8428 - accuracy: 0.5353 - val_loss: 2.1441 - val_accuracy: 0.4862\n",
            "Epoch 26/100\n",
            "390/390 [==============================] - 24s 62ms/step - loss: 1.8203 - accuracy: 0.5413 - val_loss: 2.2411 - val_accuracy: 0.4797\n",
            "Epoch 27/100\n",
            "390/390 [==============================] - 24s 60ms/step - loss: 1.8131 - accuracy: 0.5433 - val_loss: 2.1043 - val_accuracy: 0.5006\n",
            "Epoch 28/100\n",
            "390/390 [==============================] - 24s 61ms/step - loss: 1.7961 - accuracy: 0.5488 - val_loss: 2.1915 - val_accuracy: 0.4866\n",
            "Epoch 29/100\n",
            "390/390 [==============================] - 24s 62ms/step - loss: 1.7881 - accuracy: 0.5496 - val_loss: 2.1117 - val_accuracy: 0.4914\n",
            "Epoch 30/100\n",
            "390/390 [==============================] - 24s 61ms/step - loss: 1.7720 - accuracy: 0.5539 - val_loss: 2.0893 - val_accuracy: 0.5001\n",
            "Epoch 31/100\n",
            "390/390 [==============================] - 24s 61ms/step - loss: 1.7682 - accuracy: 0.5567 - val_loss: 2.0418 - val_accuracy: 0.5151\n",
            "Epoch 32/100\n",
            "390/390 [==============================] - 23s 60ms/step - loss: 1.7540 - accuracy: 0.5575 - val_loss: 2.1736 - val_accuracy: 0.4798\n",
            "Epoch 33/100\n",
            "390/390 [==============================] - 24s 61ms/step - loss: 1.7384 - accuracy: 0.5650 - val_loss: 2.1678 - val_accuracy: 0.4916\n",
            "Epoch 34/100\n",
            "390/390 [==============================] - 24s 61ms/step - loss: 1.7401 - accuracy: 0.5633 - val_loss: 2.1161 - val_accuracy: 0.4962\n",
            "Epoch 35/100\n",
            "390/390 [==============================] - 24s 60ms/step - loss: 1.7268 - accuracy: 0.5673 - val_loss: 2.0491 - val_accuracy: 0.5048\n",
            "Epoch 36/100\n",
            "390/390 [==============================] - 24s 61ms/step - loss: 1.7133 - accuracy: 0.5710 - val_loss: 2.0959 - val_accuracy: 0.5059\n",
            "Epoch 37/100\n",
            "390/390 [==============================] - 23s 60ms/step - loss: 1.7157 - accuracy: 0.5717 - val_loss: 2.0838 - val_accuracy: 0.5058\n",
            "Epoch 38/100\n",
            "390/390 [==============================] - 24s 61ms/step - loss: 1.7049 - accuracy: 0.5754 - val_loss: 1.9795 - val_accuracy: 0.5238\n",
            "Epoch 39/100\n",
            "390/390 [==============================] - 24s 62ms/step - loss: 1.6898 - accuracy: 0.5784 - val_loss: 2.1545 - val_accuracy: 0.5032\n",
            "Epoch 40/100\n",
            "390/390 [==============================] - 24s 61ms/step - loss: 1.6880 - accuracy: 0.5775 - val_loss: 2.1318 - val_accuracy: 0.5035\n",
            "Epoch 41/100\n",
            "390/390 [==============================] - 24s 61ms/step - loss: 1.6806 - accuracy: 0.5791 - val_loss: 1.9969 - val_accuracy: 0.5237\n",
            "Epoch 42/100\n",
            "390/390 [==============================] - 23s 60ms/step - loss: 1.6703 - accuracy: 0.5845 - val_loss: 2.0849 - val_accuracy: 0.5056\n",
            "Epoch 43/100\n",
            "390/390 [==============================] - 24s 61ms/step - loss: 1.6668 - accuracy: 0.5844 - val_loss: 2.2392 - val_accuracy: 0.4906\n",
            "Epoch 44/100\n",
            "390/390 [==============================] - 24s 61ms/step - loss: 1.6641 - accuracy: 0.5842 - val_loss: 1.9387 - val_accuracy: 0.5374\n",
            "Epoch 45/100\n",
            "390/390 [==============================] - 24s 61ms/step - loss: 1.6515 - accuracy: 0.5874 - val_loss: 2.1020 - val_accuracy: 0.5078\n",
            "Epoch 46/100\n",
            "390/390 [==============================] - 24s 61ms/step - loss: 1.6436 - accuracy: 0.5900 - val_loss: 2.0489 - val_accuracy: 0.5211\n",
            "Epoch 47/100\n",
            "390/390 [==============================] - 24s 61ms/step - loss: 1.6322 - accuracy: 0.5925 - val_loss: 1.8959 - val_accuracy: 0.5458\n",
            "Epoch 48/100\n",
            "390/390 [==============================] - 24s 61ms/step - loss: 1.6343 - accuracy: 0.5923 - val_loss: 1.8952 - val_accuracy: 0.5420\n",
            "Epoch 49/100\n",
            "390/390 [==============================] - 24s 62ms/step - loss: 1.6277 - accuracy: 0.5960 - val_loss: 2.0710 - val_accuracy: 0.5258\n",
            "Epoch 50/100\n",
            "390/390 [==============================] - 24s 62ms/step - loss: 1.6216 - accuracy: 0.5950 - val_loss: 1.8667 - val_accuracy: 0.5520\n",
            "Epoch 51/100\n",
            "390/390 [==============================] - 24s 62ms/step - loss: 1.6184 - accuracy: 0.5955 - val_loss: 1.9205 - val_accuracy: 0.5441\n",
            "Epoch 52/100\n",
            "390/390 [==============================] - 24s 63ms/step - loss: 1.6142 - accuracy: 0.5978 - val_loss: 1.9315 - val_accuracy: 0.5417\n",
            "Epoch 53/100\n",
            "390/390 [==============================] - 24s 62ms/step - loss: 1.6046 - accuracy: 0.6012 - val_loss: 1.9515 - val_accuracy: 0.5427\n",
            "Epoch 54/100\n",
            "390/390 [==============================] - 24s 63ms/step - loss: 1.6026 - accuracy: 0.5995 - val_loss: 1.9109 - val_accuracy: 0.5491\n",
            "Epoch 55/100\n",
            "390/390 [==============================] - 24s 62ms/step - loss: 1.5915 - accuracy: 0.6034 - val_loss: 1.9638 - val_accuracy: 0.5327\n",
            "Epoch 56/100\n",
            "390/390 [==============================] - 25s 63ms/step - loss: 1.5967 - accuracy: 0.6008 - val_loss: 2.0339 - val_accuracy: 0.5317\n",
            "Epoch 57/100\n",
            "390/390 [==============================] - 24s 61ms/step - loss: 1.5818 - accuracy: 0.6060 - val_loss: 1.9628 - val_accuracy: 0.5478\n",
            "Epoch 58/100\n",
            "390/390 [==============================] - 24s 61ms/step - loss: 1.5885 - accuracy: 0.6050 - val_loss: 1.8908 - val_accuracy: 0.5529\n",
            "Epoch 59/100\n",
            "390/390 [==============================] - 24s 61ms/step - loss: 1.5779 - accuracy: 0.6054 - val_loss: 2.1050 - val_accuracy: 0.5174\n",
            "Epoch 60/100\n",
            "390/390 [==============================] - 24s 62ms/step - loss: 1.5742 - accuracy: 0.6096 - val_loss: 1.8720 - val_accuracy: 0.5531\n",
            "Epoch 61/100\n",
            "390/390 [==============================] - 24s 61ms/step - loss: 1.5799 - accuracy: 0.6098 - val_loss: 1.9207 - val_accuracy: 0.5366\n",
            "Epoch 62/100\n",
            "390/390 [==============================] - 24s 61ms/step - loss: 1.5655 - accuracy: 0.6090 - val_loss: 1.8609 - val_accuracy: 0.5539\n",
            "Epoch 63/100\n",
            "390/390 [==============================] - 24s 61ms/step - loss: 1.5628 - accuracy: 0.6096 - val_loss: 1.9162 - val_accuracy: 0.5466\n",
            "Epoch 64/100\n",
            "390/390 [==============================] - 24s 61ms/step - loss: 1.5628 - accuracy: 0.6118 - val_loss: 1.9827 - val_accuracy: 0.5439\n",
            "Epoch 65/100\n",
            "390/390 [==============================] - 24s 62ms/step - loss: 1.5589 - accuracy: 0.6109 - val_loss: 1.9900 - val_accuracy: 0.5419\n",
            "Epoch 66/100\n",
            "390/390 [==============================] - 24s 61ms/step - loss: 1.5481 - accuracy: 0.6159 - val_loss: 2.0334 - val_accuracy: 0.5333\n",
            "Epoch 67/100\n",
            "390/390 [==============================] - 24s 61ms/step - loss: 1.5470 - accuracy: 0.6154 - val_loss: 1.8431 - val_accuracy: 0.5631\n",
            "Epoch 68/100\n",
            "390/390 [==============================] - 24s 61ms/step - loss: 1.5464 - accuracy: 0.6134 - val_loss: 2.0289 - val_accuracy: 0.5396\n",
            "Epoch 69/100\n",
            "390/390 [==============================] - 24s 61ms/step - loss: 1.5457 - accuracy: 0.6177 - val_loss: 1.9210 - val_accuracy: 0.5544\n",
            "Epoch 70/100\n",
            "390/390 [==============================] - 24s 62ms/step - loss: 1.5443 - accuracy: 0.6169 - val_loss: 1.8739 - val_accuracy: 0.5531\n",
            "Epoch 71/100\n",
            "390/390 [==============================] - 24s 61ms/step - loss: 1.5299 - accuracy: 0.6191 - val_loss: 1.9514 - val_accuracy: 0.5434\n",
            "Epoch 72/100\n",
            "390/390 [==============================] - 24s 61ms/step - loss: 1.5339 - accuracy: 0.6196 - val_loss: 1.8476 - val_accuracy: 0.5608\n",
            "Epoch 73/100\n",
            "390/390 [==============================] - 24s 61ms/step - loss: 1.5291 - accuracy: 0.6197 - val_loss: 1.9665 - val_accuracy: 0.5468\n",
            "Epoch 74/100\n",
            "390/390 [==============================] - 24s 61ms/step - loss: 1.5272 - accuracy: 0.6231 - val_loss: 2.0642 - val_accuracy: 0.5258\n",
            "Epoch 75/100\n",
            "390/390 [==============================] - 24s 61ms/step - loss: 1.5205 - accuracy: 0.6240 - val_loss: 1.8659 - val_accuracy: 0.5579\n",
            "Epoch 76/100\n",
            "390/390 [==============================] - 24s 61ms/step - loss: 1.5293 - accuracy: 0.6179 - val_loss: 1.8934 - val_accuracy: 0.5535\n",
            "Epoch 77/100\n",
            "390/390 [==============================] - 24s 61ms/step - loss: 1.5149 - accuracy: 0.6246 - val_loss: 1.9742 - val_accuracy: 0.5408\n",
            "Epoch 78/100\n",
            "390/390 [==============================] - 24s 62ms/step - loss: 1.5167 - accuracy: 0.6229 - val_loss: 1.9550 - val_accuracy: 0.5533\n",
            "Epoch 79/100\n",
            "390/390 [==============================] - 24s 61ms/step - loss: 1.5126 - accuracy: 0.6252 - val_loss: 1.9263 - val_accuracy: 0.5522\n",
            "Epoch 80/100\n",
            "390/390 [==============================] - 24s 61ms/step - loss: 1.5086 - accuracy: 0.6248 - val_loss: 1.9206 - val_accuracy: 0.5568\n",
            "Epoch 81/100\n",
            "390/390 [==============================] - 24s 61ms/step - loss: 1.5010 - accuracy: 0.6286 - val_loss: 1.9998 - val_accuracy: 0.5456\n",
            "Epoch 82/100\n",
            "390/390 [==============================] - 24s 62ms/step - loss: 1.5035 - accuracy: 0.6287 - val_loss: 1.8496 - val_accuracy: 0.5655\n",
            "Epoch 83/100\n",
            "390/390 [==============================] - 24s 61ms/step - loss: 1.5074 - accuracy: 0.6264 - val_loss: 2.0468 - val_accuracy: 0.5299\n",
            "Epoch 84/100\n",
            "390/390 [==============================] - 24s 62ms/step - loss: 1.4953 - accuracy: 0.6290 - val_loss: 1.7967 - val_accuracy: 0.5755\n",
            "Epoch 85/100\n",
            "390/390 [==============================] - 24s 62ms/step - loss: 1.4893 - accuracy: 0.6303 - val_loss: 1.9041 - val_accuracy: 0.5607\n",
            "Epoch 86/100\n",
            "390/390 [==============================] - 24s 62ms/step - loss: 1.4961 - accuracy: 0.6283 - val_loss: 1.9309 - val_accuracy: 0.5479\n",
            "Epoch 87/100\n",
            "390/390 [==============================] - 25s 63ms/step - loss: 1.4898 - accuracy: 0.6294 - val_loss: 1.8847 - val_accuracy: 0.5611\n",
            "Epoch 88/100\n",
            "390/390 [==============================] - 24s 62ms/step - loss: 1.4918 - accuracy: 0.6301 - val_loss: 1.8614 - val_accuracy: 0.5646\n",
            "Epoch 89/100\n",
            "390/390 [==============================] - 24s 63ms/step - loss: 1.4910 - accuracy: 0.6288 - val_loss: 1.7856 - val_accuracy: 0.5768\n",
            "Epoch 90/100\n",
            "390/390 [==============================] - 24s 63ms/step - loss: 1.4834 - accuracy: 0.6308 - val_loss: 1.9067 - val_accuracy: 0.5533\n",
            "Epoch 91/100\n",
            "390/390 [==============================] - 24s 63ms/step - loss: 1.4861 - accuracy: 0.6294 - val_loss: 1.8597 - val_accuracy: 0.5702\n",
            "Epoch 92/100\n",
            "390/390 [==============================] - 24s 62ms/step - loss: 1.4862 - accuracy: 0.6299 - val_loss: 1.8570 - val_accuracy: 0.5627\n",
            "Epoch 93/100\n",
            "390/390 [==============================] - 24s 61ms/step - loss: 1.4748 - accuracy: 0.6333 - val_loss: 1.8296 - val_accuracy: 0.5640\n",
            "Epoch 94/100\n",
            "390/390 [==============================] - 24s 61ms/step - loss: 1.4750 - accuracy: 0.6341 - val_loss: 1.9468 - val_accuracy: 0.5511\n",
            "Epoch 95/100\n",
            "390/390 [==============================] - 24s 61ms/step - loss: 1.4740 - accuracy: 0.6371 - val_loss: 1.8490 - val_accuracy: 0.5627\n",
            "Epoch 96/100\n",
            "390/390 [==============================] - 24s 61ms/step - loss: 1.4702 - accuracy: 0.6334 - val_loss: 1.9324 - val_accuracy: 0.5643\n",
            "Epoch 97/100\n",
            "390/390 [==============================] - 24s 61ms/step - loss: 1.4684 - accuracy: 0.6372 - val_loss: 1.9036 - val_accuracy: 0.5612\n",
            "Epoch 98/100\n",
            "390/390 [==============================] - 24s 61ms/step - loss: 1.4704 - accuracy: 0.6355 - val_loss: 1.9172 - val_accuracy: 0.5607\n",
            "Epoch 99/100\n",
            "390/390 [==============================] - 24s 61ms/step - loss: 1.4700 - accuracy: 0.6354 - val_loss: 1.8978 - val_accuracy: 0.5582\n",
            "Epoch 100/100\n",
            "390/390 [==============================] - 24s 61ms/step - loss: 1.4569 - accuracy: 0.6386 - val_loss: 1.8589 - val_accuracy: 0.5695\n",
            "Test loss: 1.502\n",
            "> Test accuracy: 61.360\n"
          ],
          "name": "stdout"
        }
      ]
    },
    {
      "cell_type": "code",
      "metadata": {
        "id": "WfdgrFi-o-Xq",
        "colab_type": "code",
        "colab": {}
      },
      "source": [
        "all_stack_cnn_diff_filter_size_strid2_inception_model.summary()"
      ],
      "execution_count": 0,
      "outputs": []
    },
    {
      "cell_type": "code",
      "metadata": {
        "id": "ZeAGEIKUHlY1",
        "colab_type": "code",
        "colab": {}
      },
      "source": [
        "def all_stack_cnn_diff_filter_diff_size_strid2_inception(model_input: Tensor) -> training.Model:\n",
        "    x = Conv2D(64, kernel_size=(4, 4), activation='elu', padding = 'same', kernel_regularizer = l2_norm)(model_input)\n",
        "    x = Conv2D(64, (4, 4), activation='elu', padding = 'same', kernel_initializer='he_uniform', kernel_regularizer = l2_norm)(x)\n",
        "    x = Dropout(0.35) (x)\n",
        "    x = BatchNormalization()(x)\n",
        "    x = Conv2D(64, (4, 4), activation='elu', padding = 'same', strides = 2, kernel_initializer='he_uniform', kernel_regularizer = l2_norm)(x)\n",
        "\n",
        "    x2 = Conv2D(64, kernel_size=(4, 2), activation='elu', padding = 'same', kernel_regularizer = l2_norm)(x)\n",
        "    x2 = Conv2D(64, (3, 3), activation='elu', padding = 'same', kernel_initializer='he_uniform', kernel_regularizer = l2_norm)(x2)\n",
        "    x2 = Dropout(0.35) (x2)\n",
        "    x2 = BatchNormalization()(x2)\n",
        "    x2 = Conv2D(64, (3, 3), activation='elu', padding = 'same', strides = 2, kernel_initializer='he_uniform', kernel_regularizer = l2_norm)(x2)\n",
        "\n",
        "    x3 = Conv2D(64, kernel_size=(2, 4), activation='elu', padding = 'same', kernel_regularizer = l2_norm)(x)\n",
        "    x3 = Conv2D(64, (2, 2), activation='elu', padding = 'same', kernel_initializer='he_uniform', kernel_regularizer = l2_norm)(x3)\n",
        "    x3 = Dropout(0.35) (x3)\n",
        "    x3 = BatchNormalization()(x3)\n",
        "    x3 = Conv2D(64, (2, 2), activation='elu', padding = 'same', strides = 2, kernel_initializer='he_uniform', kernel_regularizer = l2_norm)(x3)\n",
        "    x3 = Dropout(0.4) (x3)\n",
        "\n",
        "    x = layers.Add()([x2, x3])\n",
        "    x = Conv2D(100, (1, 1))(x)\n",
        "    x = GlobalAveragePooling2D()(x)\n",
        "    x = Activation(activation='softmax')(x)\n",
        "\n",
        "    model = Model(model_input, x, name='all_stack_cnn_diff_filter_diff_size_strid2_inception')\n",
        "    \n",
        "    return model"
      ],
      "execution_count": 0,
      "outputs": []
    },
    {
      "cell_type": "code",
      "metadata": {
        "id": "edkXcNCAHvYV",
        "colab_type": "code",
        "outputId": "a3f1b1c6-d93f-4838-9aca-25590b4256e8",
        "colab": {
          "base_uri": "https://localhost:8080/",
          "height": 1000
        }
      },
      "source": [
        "batch_size = 128\n",
        "num_epochs = 50\n",
        "all_stack_cnn_diff_filter_diff_size_strid2_inception_model = all_stack_cnn_diff_filter_diff_size_strid2_inception(model_input)\n",
        "\n",
        "isFile = os.path.isfile(\"all_stack_cnn_diff_filter_diff_size_strid2_inception_model.h5\")\n",
        "if isFile :\n",
        "  all_stack_cnn_diff_filter_diff_size_strid2_inception_model.load_weights('all_stack_cnn_diff_filter_diff_size_strid2_inception_model.h5')\n",
        "\n",
        "hist, conv_pool_cnn_weight_file = compile_with_train_generator(all_stack_cnn_diff_filter_diff_size_strid2_inception_model, num_epochs, batch_size)\n",
        "\n",
        "all_stack_cnn_diff_filter_diff_size_strid2_inception_model.save('all_stack_cnn_diff_filter_diff_size_strid2_inception_model.h5')\n",
        "\n",
        "evaluate(all_stack_cnn_diff_filter_diff_size_strid2_inception_model, hist, 'output/all_stack_cnn_diff_filter_diff_size_strid2_inception.png')"
      ],
      "execution_count": 0,
      "outputs": [
        {
          "output_type": "stream",
          "text": [
            "WARNING:tensorflow:sample_weight modes were coerced from\n",
            "  ...\n",
            "    to  \n",
            "  ['...']\n",
            "Train for 390 steps, validate on 10000 samples\n",
            "Epoch 1/50\n",
            "390/390 [==============================] - 26s 66ms/step - loss: 1.7860 - accuracy: 0.5208 - val_loss: 1.9743 - val_accuracy: 0.4937\n",
            "Epoch 2/50\n",
            "390/390 [==============================] - 24s 62ms/step - loss: 1.7597 - accuracy: 0.5281 - val_loss: 1.9111 - val_accuracy: 0.5019\n",
            "Epoch 3/50\n",
            "390/390 [==============================] - 25s 63ms/step - loss: 1.7369 - accuracy: 0.5341 - val_loss: 2.0469 - val_accuracy: 0.4872\n",
            "Epoch 4/50\n",
            "390/390 [==============================] - 24s 62ms/step - loss: 1.7179 - accuracy: 0.5410 - val_loss: 2.0153 - val_accuracy: 0.4839\n",
            "Epoch 5/50\n",
            "390/390 [==============================] - 24s 62ms/step - loss: 1.7076 - accuracy: 0.5437 - val_loss: 1.9177 - val_accuracy: 0.5132\n",
            "Epoch 6/50\n",
            "390/390 [==============================] - 24s 62ms/step - loss: 1.6863 - accuracy: 0.5463 - val_loss: 1.9626 - val_accuracy: 0.4948\n",
            "Epoch 7/50\n",
            "390/390 [==============================] - 24s 61ms/step - loss: 1.6667 - accuracy: 0.5517 - val_loss: 1.8891 - val_accuracy: 0.5130\n",
            "Epoch 8/50\n",
            "390/390 [==============================] - 24s 62ms/step - loss: 1.6636 - accuracy: 0.5535 - val_loss: 1.9033 - val_accuracy: 0.5133\n",
            "Epoch 9/50\n",
            "390/390 [==============================] - 24s 62ms/step - loss: 1.6536 - accuracy: 0.5580 - val_loss: 1.8532 - val_accuracy: 0.5316\n",
            "Epoch 10/50\n",
            "390/390 [==============================] - 25s 63ms/step - loss: 1.6395 - accuracy: 0.5607 - val_loss: 1.8495 - val_accuracy: 0.5310\n",
            "Epoch 11/50\n",
            "390/390 [==============================] - 24s 63ms/step - loss: 1.6261 - accuracy: 0.5636 - val_loss: 1.9422 - val_accuracy: 0.5039\n",
            "Epoch 12/50\n",
            "390/390 [==============================] - 25s 64ms/step - loss: 1.6077 - accuracy: 0.5724 - val_loss: 1.8898 - val_accuracy: 0.5159\n",
            "Epoch 13/50\n",
            "390/390 [==============================] - 25s 63ms/step - loss: 1.6081 - accuracy: 0.5681 - val_loss: 2.0538 - val_accuracy: 0.5080\n",
            "Epoch 14/50\n",
            "390/390 [==============================] - 24s 62ms/step - loss: 1.5997 - accuracy: 0.5722 - val_loss: 1.8111 - val_accuracy: 0.5382\n",
            "Epoch 15/50\n",
            "390/390 [==============================] - 25s 63ms/step - loss: 1.5925 - accuracy: 0.5732 - val_loss: 1.8748 - val_accuracy: 0.5239\n",
            "Epoch 16/50\n",
            "390/390 [==============================] - 24s 62ms/step - loss: 1.5872 - accuracy: 0.5745 - val_loss: 1.8817 - val_accuracy: 0.5308\n",
            "Epoch 17/50\n",
            "390/390 [==============================] - 24s 62ms/step - loss: 1.5736 - accuracy: 0.5812 - val_loss: 1.8380 - val_accuracy: 0.5310\n",
            "Epoch 18/50\n",
            "390/390 [==============================] - 25s 63ms/step - loss: 1.5633 - accuracy: 0.5836 - val_loss: 1.8324 - val_accuracy: 0.5337\n",
            "Epoch 19/50\n",
            "390/390 [==============================] - 24s 61ms/step - loss: 1.5606 - accuracy: 0.5841 - val_loss: 1.8210 - val_accuracy: 0.5337\n",
            "Epoch 20/50\n",
            "390/390 [==============================] - 24s 62ms/step - loss: 1.5532 - accuracy: 0.5846 - val_loss: 1.9744 - val_accuracy: 0.5136\n",
            "Epoch 21/50\n",
            "390/390 [==============================] - 24s 61ms/step - loss: 1.5461 - accuracy: 0.5865 - val_loss: 1.7910 - val_accuracy: 0.5413\n",
            "Epoch 22/50\n",
            "390/390 [==============================] - 24s 62ms/step - loss: 1.5306 - accuracy: 0.5915 - val_loss: 1.8874 - val_accuracy: 0.5367\n",
            "Epoch 23/50\n",
            "390/390 [==============================] - 24s 62ms/step - loss: 1.5353 - accuracy: 0.5895 - val_loss: 1.9719 - val_accuracy: 0.5213\n",
            "Epoch 24/50\n",
            "390/390 [==============================] - 24s 62ms/step - loss: 1.5314 - accuracy: 0.5908 - val_loss: 1.8369 - val_accuracy: 0.5403\n",
            "Epoch 25/50\n",
            "390/390 [==============================] - 25s 64ms/step - loss: 1.5226 - accuracy: 0.5941 - val_loss: 1.7804 - val_accuracy: 0.5424\n",
            "Epoch 26/50\n",
            "390/390 [==============================] - 24s 61ms/step - loss: 1.5122 - accuracy: 0.5979 - val_loss: 1.8678 - val_accuracy: 0.5386\n",
            "Epoch 27/50\n",
            "390/390 [==============================] - 24s 62ms/step - loss: 1.5081 - accuracy: 0.5997 - val_loss: 1.9329 - val_accuracy: 0.5253\n",
            "Epoch 28/50\n",
            "390/390 [==============================] - 24s 62ms/step - loss: 1.5025 - accuracy: 0.6017 - val_loss: 1.9277 - val_accuracy: 0.5337\n",
            "Epoch 29/50\n",
            "390/390 [==============================] - 24s 61ms/step - loss: 1.5019 - accuracy: 0.5994 - val_loss: 1.8990 - val_accuracy: 0.5313\n",
            "Epoch 30/50\n",
            "390/390 [==============================] - 25s 63ms/step - loss: 1.4897 - accuracy: 0.6054 - val_loss: 1.8783 - val_accuracy: 0.5360\n",
            "Epoch 31/50\n",
            "390/390 [==============================] - 24s 62ms/step - loss: 1.4872 - accuracy: 0.6062 - val_loss: 1.8079 - val_accuracy: 0.5518\n",
            "Epoch 32/50\n",
            "390/390 [==============================] - 24s 62ms/step - loss: 1.4786 - accuracy: 0.6068 - val_loss: 1.8737 - val_accuracy: 0.5436\n",
            "Epoch 33/50\n",
            "390/390 [==============================] - 24s 62ms/step - loss: 1.4800 - accuracy: 0.6085 - val_loss: 1.7701 - val_accuracy: 0.5590\n",
            "Epoch 34/50\n",
            "390/390 [==============================] - 24s 62ms/step - loss: 1.4758 - accuracy: 0.6069 - val_loss: 1.9564 - val_accuracy: 0.5227\n",
            "Epoch 35/50\n",
            "390/390 [==============================] - 25s 63ms/step - loss: 1.4754 - accuracy: 0.6077 - val_loss: 1.7663 - val_accuracy: 0.5637\n",
            "Epoch 36/50\n",
            "390/390 [==============================] - 24s 62ms/step - loss: 1.4637 - accuracy: 0.6107 - val_loss: 1.9012 - val_accuracy: 0.5420\n",
            "Epoch 37/50\n",
            "390/390 [==============================] - 24s 62ms/step - loss: 1.4593 - accuracy: 0.6144 - val_loss: 1.9533 - val_accuracy: 0.5226\n",
            "Epoch 38/50\n",
            "390/390 [==============================] - 25s 63ms/step - loss: 1.4549 - accuracy: 0.6144 - val_loss: 1.7845 - val_accuracy: 0.5596\n",
            "Epoch 39/50\n",
            "390/390 [==============================] - 24s 61ms/step - loss: 1.4518 - accuracy: 0.6147 - val_loss: 1.7561 - val_accuracy: 0.5602\n",
            "Epoch 40/50\n",
            "390/390 [==============================] - 24s 63ms/step - loss: 1.4527 - accuracy: 0.6152 - val_loss: 1.8963 - val_accuracy: 0.5379\n",
            "Epoch 41/50\n",
            "390/390 [==============================] - 24s 62ms/step - loss: 1.4502 - accuracy: 0.6151 - val_loss: 1.8669 - val_accuracy: 0.5481\n",
            "Epoch 42/50\n",
            "390/390 [==============================] - 24s 63ms/step - loss: 1.4453 - accuracy: 0.6185 - val_loss: 1.9231 - val_accuracy: 0.5400\n",
            "Epoch 43/50\n",
            "390/390 [==============================] - 25s 64ms/step - loss: 1.4416 - accuracy: 0.6183 - val_loss: 1.8016 - val_accuracy: 0.5591\n",
            "Epoch 44/50\n",
            "390/390 [==============================] - 24s 63ms/step - loss: 1.4330 - accuracy: 0.6235 - val_loss: 1.8031 - val_accuracy: 0.5625\n",
            "Epoch 45/50\n",
            "390/390 [==============================] - 25s 64ms/step - loss: 1.4278 - accuracy: 0.6210 - val_loss: 1.7831 - val_accuracy: 0.5626\n",
            "Epoch 46/50\n",
            "390/390 [==============================] - 25s 63ms/step - loss: 1.4282 - accuracy: 0.6228 - val_loss: 1.8309 - val_accuracy: 0.5497\n",
            "Epoch 47/50\n",
            "390/390 [==============================] - 25s 63ms/step - loss: 1.4300 - accuracy: 0.6229 - val_loss: 1.7828 - val_accuracy: 0.5614\n",
            "Epoch 48/50\n",
            "390/390 [==============================] - 25s 63ms/step - loss: 1.4223 - accuracy: 0.6246 - val_loss: 1.9542 - val_accuracy: 0.5359\n",
            "Epoch 49/50\n",
            "390/390 [==============================] - 25s 63ms/step - loss: 1.4289 - accuracy: 0.6227 - val_loss: 1.8925 - val_accuracy: 0.5396\n",
            "Epoch 50/50\n",
            "390/390 [==============================] - 24s 62ms/step - loss: 1.4123 - accuracy: 0.6276 - val_loss: 1.7881 - val_accuracy: 0.5541\n",
            "Test loss: 1.788\n",
            "> Test accuracy: 55.410\n"
          ],
          "name": "stdout"
        }
      ]
    },
    {
      "cell_type": "code",
      "metadata": {
        "id": "FQEJzvv0IEM2",
        "colab_type": "code",
        "colab": {}
      },
      "source": [
        "def all_stack_cnn_filter_size4_strid2_resnet_with_alt_elu_relu(model_input: Tensor) -> training.Model:\n",
        "    x1 = Conv2D(32, kernel_size=(4, 4), activation='elu', padding = 'same', kernel_regularizer = l2_norm)(model_input)\n",
        "    x1 = Conv2D(32, (4, 4), activation='relu', padding = 'same', kernel_initializer='he_uniform', kernel_regularizer = l2_norm)(x1)\n",
        "    x1 = Dropout(0.25) (x1)\n",
        "    x1 = BatchNormalization()(x1)\n",
        "    x1 = Conv2D(32, (4, 4), activation='elu', padding = 'same', strides = 2, kernel_initializer='he_uniform', kernel_regularizer = l2_norm)(x1)\n",
        "\n",
        "    x2 = Conv2D(32, kernel_size=(1, 1), activation='relu', padding = 'same', strides = 2, kernel_regularizer = l2_norm)(model_input)\n",
        "    x = layers.Add()([x1, x2])\n",
        "    x = Conv2D(64, (4, 4), activation='elu', padding = 'same', kernel_initializer='he_uniform', kernel_regularizer = l2_norm)(x)\n",
        "    x = Conv2D(64, (4, 4), activation='relu', padding = 'same', kernel_initializer='he_uniform', kernel_regularizer = l2_norm)(x)\n",
        "    x = Dropout(0.3) (x)\n",
        "    x = BatchNormalization()(x)\n",
        "    x = Conv2D(64, (4, 4), activation='elu', padding = 'same', strides = 2, kernel_initializer='he_uniform', kernel_regularizer = l2_norm)(x)\n",
        "\n",
        "    x = Conv2D(64, (4, 4), activation='relu', padding = 'same', kernel_initializer='he_uniform', kernel_regularizer = l2_norm)(x)\n",
        "    x = Dropout(0.35) (x)\n",
        "    x = BatchNormalization()(x)\n",
        "    x = Conv2D(64, (2, 2), activation='elu', padding = 'same', strides = 2, kernel_initializer='he_uniform', kernel_regularizer = l2_norm)(x)\n",
        "    x = Dropout(0.4) (x)\n",
        "    x = Conv2D(100, (1, 1))(x)\n",
        "    x = GlobalAveragePooling2D()(x)\n",
        "    x = Activation(activation='softmax')(x)\n",
        "\n",
        "    model = Model(model_input, x, name='all_stack_cnn_filter_size4_strid2_resnet_with_alt_elu_relu')\n",
        "    \n",
        "    return model"
      ],
      "execution_count": 0,
      "outputs": []
    },
    {
      "cell_type": "code",
      "metadata": {
        "id": "8Y4xfqx7IMJj",
        "colab_type": "code",
        "outputId": "8f404d92-a175-4acb-f440-8863f19c94af",
        "colab": {
          "base_uri": "https://localhost:8080/",
          "height": 1000
        }
      },
      "source": [
        "batch_size = 128\n",
        "num_epochs = 50\n",
        "all_stack_cnn_filter_size4_strid2_resnet_with_alt_elu_relu_model = all_stack_cnn_filter_size4_strid2_resnet_with_alt_elu_relu(model_input)\n",
        "isFile = os.path.isfile(\"all_stack_cnn_filter_size4_strid2_resnet_with_alt_elu_relu_model.h5\")\n",
        "if isFile :\n",
        "  all_stack_cnn_filter_size4_strid2_resnet_with_alt_elu_relu_model.load_weights('all_stack_cnn_filter_size4_strid2_resnet_with_alt_elu_relu_model.h5')\n",
        "hist, conv_pool_cnn_weight_file = compile_with_train_generator(all_stack_cnn_filter_size4_strid2_resnet_with_alt_elu_relu_model, num_epochs, batch_size)\n",
        "\n",
        "all_stack_cnn_filter_size4_strid2_resnet_with_alt_elu_relu_model.save('all_stack_cnn_filter_size4_strid2_resnet_with_alt_elu_relu_model.h5')\n",
        "\n",
        "evaluate(all_stack_cnn_filter_size4_strid2_resnet_with_alt_elu_relu_model, hist, 'output/all_stack_cnn_filter_size4_strid2_resnet_with_alt_elu_relu_model.png')"
      ],
      "execution_count": 0,
      "outputs": [
        {
          "output_type": "stream",
          "text": [
            "WARNING:tensorflow:sample_weight modes were coerced from\n",
            "  ...\n",
            "    to  \n",
            "  ['...']\n",
            "Train for 390 steps, validate on 10000 samples\n",
            "Epoch 1/50\n",
            "390/390 [==============================] - 24s 61ms/step - loss: 1.7051 - accuracy: 0.5807 - val_loss: 1.7665 - val_accuracy: 0.5844\n",
            "Epoch 2/50\n",
            "390/390 [==============================] - 23s 58ms/step - loss: 1.6882 - accuracy: 0.5847 - val_loss: 1.8489 - val_accuracy: 0.5645\n",
            "Epoch 3/50\n",
            "390/390 [==============================] - 23s 58ms/step - loss: 1.6921 - accuracy: 0.5854 - val_loss: 1.8468 - val_accuracy: 0.5628\n",
            "Epoch 4/50\n",
            "390/390 [==============================] - 23s 59ms/step - loss: 1.6844 - accuracy: 0.5848 - val_loss: 1.9084 - val_accuracy: 0.5564\n",
            "Epoch 5/50\n",
            "390/390 [==============================] - 22s 56ms/step - loss: 1.7022 - accuracy: 0.5817 - val_loss: 1.9113 - val_accuracy: 0.5514\n",
            "Epoch 6/50\n",
            "390/390 [==============================] - 22s 57ms/step - loss: 1.6873 - accuracy: 0.5857 - val_loss: 1.8649 - val_accuracy: 0.5577\n",
            "Epoch 7/50\n",
            "390/390 [==============================] - 22s 57ms/step - loss: 1.6780 - accuracy: 0.5886 - val_loss: 1.7935 - val_accuracy: 0.5769\n",
            "Epoch 8/50\n",
            "390/390 [==============================] - 22s 57ms/step - loss: 1.6781 - accuracy: 0.5850 - val_loss: 1.9013 - val_accuracy: 0.5581\n",
            "Epoch 9/50\n",
            "390/390 [==============================] - 23s 58ms/step - loss: 1.6804 - accuracy: 0.5858 - val_loss: 1.9582 - val_accuracy: 0.5439\n",
            "Epoch 10/50\n",
            "390/390 [==============================] - 23s 58ms/step - loss: 1.6756 - accuracy: 0.5851 - val_loss: 1.8098 - val_accuracy: 0.5717\n",
            "Epoch 11/50\n",
            "390/390 [==============================] - 22s 57ms/step - loss: 1.6740 - accuracy: 0.5894 - val_loss: 2.0044 - val_accuracy: 0.5414\n",
            "Epoch 12/50\n",
            "390/390 [==============================] - 23s 59ms/step - loss: 1.6845 - accuracy: 0.5858 - val_loss: 1.8191 - val_accuracy: 0.5700\n",
            "Epoch 13/50\n",
            "390/390 [==============================] - 22s 57ms/step - loss: 1.6719 - accuracy: 0.5891 - val_loss: 1.8671 - val_accuracy: 0.5663\n",
            "Epoch 14/50\n",
            "390/390 [==============================] - 23s 58ms/step - loss: 1.6673 - accuracy: 0.5894 - val_loss: 1.9152 - val_accuracy: 0.5546\n",
            "Epoch 15/50\n",
            "390/390 [==============================] - 23s 58ms/step - loss: 1.6668 - accuracy: 0.5899 - val_loss: 2.0057 - val_accuracy: 0.5414\n",
            "Epoch 16/50\n",
            "390/390 [==============================] - 22s 57ms/step - loss: 1.6694 - accuracy: 0.5896 - val_loss: 2.1021 - val_accuracy: 0.5340\n",
            "Epoch 17/50\n",
            "390/390 [==============================] - 23s 58ms/step - loss: 1.6594 - accuracy: 0.5957 - val_loss: 1.9188 - val_accuracy: 0.5563\n",
            "Epoch 18/50\n",
            "390/390 [==============================] - 22s 57ms/step - loss: 1.6659 - accuracy: 0.5906 - val_loss: 1.7824 - val_accuracy: 0.5834\n",
            "Epoch 19/50\n",
            "390/390 [==============================] - 22s 57ms/step - loss: 1.6588 - accuracy: 0.5944 - val_loss: 1.8638 - val_accuracy: 0.5657\n",
            "Epoch 20/50\n",
            "390/390 [==============================] - 23s 58ms/step - loss: 1.6643 - accuracy: 0.5926 - val_loss: 1.9325 - val_accuracy: 0.5501\n",
            "Epoch 21/50\n",
            "390/390 [==============================] - 22s 57ms/step - loss: 1.6595 - accuracy: 0.5930 - val_loss: 1.8325 - val_accuracy: 0.5695\n",
            "Epoch 22/50\n",
            "390/390 [==============================] - 22s 58ms/step - loss: 1.6507 - accuracy: 0.5953 - val_loss: 1.8133 - val_accuracy: 0.5777\n",
            "Epoch 23/50\n",
            "390/390 [==============================] - 23s 58ms/step - loss: 1.6622 - accuracy: 0.5928 - val_loss: 1.8770 - val_accuracy: 0.5589\n",
            "Epoch 24/50\n",
            "390/390 [==============================] - 23s 58ms/step - loss: 1.6571 - accuracy: 0.5941 - val_loss: 1.9340 - val_accuracy: 0.5559\n",
            "Epoch 25/50\n",
            "390/390 [==============================] - 22s 58ms/step - loss: 1.6528 - accuracy: 0.5959 - val_loss: 1.8034 - val_accuracy: 0.5733\n",
            "Epoch 26/50\n",
            "390/390 [==============================] - 22s 57ms/step - loss: 1.6557 - accuracy: 0.5936 - val_loss: 1.8227 - val_accuracy: 0.5710\n",
            "Epoch 27/50\n",
            "390/390 [==============================] - 22s 57ms/step - loss: 1.6542 - accuracy: 0.5918 - val_loss: 1.9392 - val_accuracy: 0.5553\n",
            "Epoch 28/50\n",
            "390/390 [==============================] - 23s 58ms/step - loss: 1.6483 - accuracy: 0.5960 - val_loss: 1.8147 - val_accuracy: 0.5739\n",
            "Epoch 29/50\n",
            "390/390 [==============================] - 22s 57ms/step - loss: 1.6563 - accuracy: 0.5946 - val_loss: 2.0246 - val_accuracy: 0.5431\n",
            "Epoch 30/50\n",
            "390/390 [==============================] - 22s 57ms/step - loss: 1.6520 - accuracy: 0.5947 - val_loss: 1.8343 - val_accuracy: 0.5658\n",
            "Epoch 31/50\n",
            "390/390 [==============================] - 22s 57ms/step - loss: 1.6455 - accuracy: 0.5949 - val_loss: 1.8444 - val_accuracy: 0.5708\n",
            "Epoch 32/50\n",
            "390/390 [==============================] - 22s 57ms/step - loss: 1.6445 - accuracy: 0.5944 - val_loss: 1.8590 - val_accuracy: 0.5624\n",
            "Epoch 33/50\n",
            "390/390 [==============================] - 22s 57ms/step - loss: 1.6432 - accuracy: 0.5953 - val_loss: 1.8802 - val_accuracy: 0.5605\n",
            "Epoch 34/50\n",
            "390/390 [==============================] - 22s 57ms/step - loss: 1.6376 - accuracy: 0.5979 - val_loss: 1.8619 - val_accuracy: 0.5633\n",
            "Epoch 35/50\n",
            "390/390 [==============================] - 22s 57ms/step - loss: 1.6472 - accuracy: 0.5943 - val_loss: 1.8303 - val_accuracy: 0.5715\n",
            "Epoch 36/50\n",
            "390/390 [==============================] - 23s 58ms/step - loss: 1.6430 - accuracy: 0.5961 - val_loss: 1.8330 - val_accuracy: 0.5752\n",
            "Epoch 37/50\n",
            "390/390 [==============================] - 22s 57ms/step - loss: 1.6435 - accuracy: 0.5966 - val_loss: 1.9160 - val_accuracy: 0.5562\n",
            "Epoch 38/50\n",
            "390/390 [==============================] - 23s 58ms/step - loss: 1.6399 - accuracy: 0.5974 - val_loss: 1.8832 - val_accuracy: 0.5639\n",
            "Epoch 39/50\n",
            "390/390 [==============================] - 22s 57ms/step - loss: 1.6386 - accuracy: 0.5980 - val_loss: 2.1440 - val_accuracy: 0.5287\n",
            "Epoch 40/50\n",
            "390/390 [==============================] - 22s 57ms/step - loss: 1.6357 - accuracy: 0.5998 - val_loss: 1.8734 - val_accuracy: 0.5661\n",
            "Epoch 41/50\n",
            "390/390 [==============================] - 22s 57ms/step - loss: 1.6301 - accuracy: 0.6019 - val_loss: 1.8074 - val_accuracy: 0.5705\n",
            "Epoch 42/50\n",
            "390/390 [==============================] - 22s 58ms/step - loss: 1.6359 - accuracy: 0.5980 - val_loss: 1.7904 - val_accuracy: 0.5751\n",
            "Epoch 43/50\n",
            "390/390 [==============================] - 22s 56ms/step - loss: 1.6358 - accuracy: 0.6004 - val_loss: 1.8653 - val_accuracy: 0.5679\n",
            "Epoch 44/50\n",
            "390/390 [==============================] - 23s 58ms/step - loss: 1.6296 - accuracy: 0.6020 - val_loss: 1.8959 - val_accuracy: 0.5599\n",
            "Epoch 45/50\n",
            "390/390 [==============================] - 22s 57ms/step - loss: 1.6315 - accuracy: 0.6034 - val_loss: 1.8130 - val_accuracy: 0.5767\n",
            "Epoch 46/50\n",
            "390/390 [==============================] - 22s 57ms/step - loss: 1.6229 - accuracy: 0.6016 - val_loss: 1.7734 - val_accuracy: 0.5865\n",
            "Epoch 47/50\n",
            "390/390 [==============================] - 22s 58ms/step - loss: 1.6247 - accuracy: 0.6023 - val_loss: 1.8641 - val_accuracy: 0.5710\n",
            "Epoch 48/50\n",
            "390/390 [==============================] - 22s 57ms/step - loss: 1.6346 - accuracy: 0.5998 - val_loss: 1.8202 - val_accuracy: 0.5764\n",
            "Epoch 49/50\n",
            "390/390 [==============================] - 23s 58ms/step - loss: 1.6261 - accuracy: 0.6028 - val_loss: 1.7889 - val_accuracy: 0.5780\n",
            "Epoch 50/50\n",
            "390/390 [==============================] - 22s 58ms/step - loss: 1.6253 - accuracy: 0.6005 - val_loss: 1.8552 - val_accuracy: 0.5728\n",
            "Test loss: 1.855\n",
            "> Test accuracy: 57.280\n"
          ],
          "name": "stdout"
        }
      ]
    },
    {
      "cell_type": "code",
      "metadata": {
        "id": "UFFxye8kDAiE",
        "colab_type": "code",
        "outputId": "4d083afe-7fa7-445b-bc69-dbe1b40799ff",
        "colab": {
          "base_uri": "https://localhost:8080/",
          "height": 641
        }
      },
      "source": [
        "plt_path = 'output/all_stack_cnn_filter_size4_strid2_resnet_with_alt_elu_relu_model.png'\n",
        "plot_validation_history(all_stack_cnn_filter_size4_strid2_resnet_with_alt_elu_relu_model, hist, plt_path)\n",
        "!ls"
      ],
      "execution_count": 0,
      "outputs": [
        {
          "output_type": "display_data",
          "data": {
            "image/png": "[encoded data removed]",
            "text/plain": [
              "<Figure size 432x288 with 1 Axes>"
            ]
          },
          "metadata": {
            "tags": []
          }
        },
        {
          "output_type": "display_data",
          "data": {
            "image/png": "[encoded data removed]",
            "text/plain": [
              "<Figure size 432x288 with 1 Axes>"
            ]
          },
          "metadata": {
            "tags": []
          }
        },
        {
          "output_type": "stream",
          "text": [
            "all_stack_cnn_diff_filter_size_strid2_inception.h5\n",
            "all_stack_cnn_filter_size4_strid2.h5\n",
            "all_stack_cnn_filter_size4_strid2_resnet_with_alt_elu_relu_model.h5\n",
            "sample_data\n"
          ],
          "name": "stdout"
        }
      ]
    },
    {
      "cell_type": "code",
      "metadata": {
        "id": "mwj7SBxHqwse",
        "colab_type": "code",
        "colab": {}
      },
      "source": [
        "all_stack_cnn_filter_size4_strid2_resnet.summary()"
      ],
      "execution_count": 0,
      "outputs": []
    },
    {
      "cell_type": "code",
      "metadata": {
        "id": "uEGNxW5-yHbh",
        "colab_type": "code",
        "colab": {}
      },
      "source": [
        "def all_stack_cnn_filter_size4_strid2_resnet(model_input: Tensor) -> training.Model:\n",
        "    x1 = Conv2D(32, kernel_size=(4, 4), activation='elu', padding = 'same', kernel_regularizer = l2_norm)(model_input)\n",
        "    x1 = Conv2D(32, (4, 4), activation='elu', padding = 'same', kernel_initializer='he_uniform', kernel_regularizer = l2_norm)(x1)\n",
        "    x1 = Dropout(0.25) (x1)\n",
        "    x1 = BatchNormalization()(x1)\n",
        "    x1 = Conv2D(32, (4, 4), activation='elu', padding = 'same', strides = 2, kernel_initializer='he_uniform', kernel_regularizer = l2_norm)(x1)\n",
        "\n",
        "    x2 = Conv2D(32, kernel_size=(1, 1), activation='elu', padding = 'same', strides = 2, kernel_regularizer = l2_norm)(model_input)\n",
        "    x = layers.Add()([x1, x2])\n",
        "    x = Conv2D(64, (4, 4), activation='elu', padding = 'same', kernel_initializer='he_uniform', kernel_regularizer = l2_norm)(x)\n",
        "    x = Conv2D(64, (4, 4), activation='elu', padding = 'same', kernel_initializer='he_uniform', kernel_regularizer = l2_norm)(x)\n",
        "    x = Dropout(0.3) (x)\n",
        "    x = BatchNormalization()(x)\n",
        "    x = Conv2D(64, (4, 4), activation='elu', padding = 'same', strides = 2, kernel_initializer='he_uniform', kernel_regularizer = l2_norm)(x)\n",
        "\n",
        "    x = Conv2D(64, (4, 4), activation='elu', padding = 'same', kernel_initializer='he_uniform', kernel_regularizer = l2_norm)(x)\n",
        "    x = Dropout(0.35) (x)\n",
        "    x = BatchNormalization()(x)\n",
        "    x = Conv2D(64, (2, 2), activation='elu', padding = 'same', strides = 2, kernel_initializer='he_uniform', kernel_regularizer = l2_norm)(x)\n",
        "    x = Dropout(0.4) (x)\n",
        "    x = Conv2D(100, (1, 1))(x)\n",
        "    x = GlobalAveragePooling2D()(x)\n",
        "    x = Activation(activation='softmax')(x)\n",
        "\n",
        "    model = Model(model_input, x, name='all_stack_cnn_filter_size4_strid2_resnet')\n",
        "    \n",
        "    return model"
      ],
      "execution_count": 0,
      "outputs": []
    },
    {
      "cell_type": "code",
      "metadata": {
        "id": "vHFD--4IyLTW",
        "colab_type": "code",
        "outputId": "3dbcb975-d15d-41b2-eb8e-2774393c8521",
        "colab": {
          "base_uri": "https://localhost:8080/",
          "height": 1000
        }
      },
      "source": [
        "batch_size = 128\n",
        "num_epochs = 50\n",
        "all_stack_cnn_filter_size4_strid2_resnet_model = all_stack_cnn_filter_size4_strid2_resnet(model_input)\n",
        "isFile = os.path.isfile(\"all_stack_cnn_filter_size4_strid2_resnet_model.h5\")\n",
        "if isFile :\n",
        "  all_stack_cnn_filter_size4_strid2_resnet_model.load_weights('all_stack_cnn_filter_size4_strid2_resnet_model.h5')\n",
        "hist, conv_pool_cnn_weight_file = compile_with_train_generator(all_stack_cnn_filter_size4_strid2_resnet_model, num_epochs, batch_size)\n",
        "\n",
        "all_stack_cnn_filter_size4_strid2_resnet_model.save('all_stack_cnn_filter_size4_strid2_resnet_model.h5')\n",
        "\n",
        "evaluate(all_stack_cnn_filter_size4_strid2_resnet_model, hist, 'output/all_stack_cnn_filter_size4_strid2_resnet.png')"
      ],
      "execution_count": 0,
      "outputs": [
        {
          "output_type": "stream",
          "text": [
            "WARNING:tensorflow:sample_weight modes were coerced from\n",
            "  ...\n",
            "    to  \n",
            "  ['...']\n",
            "Train for 390 steps, validate on 10000 samples\n",
            "Epoch 1/50\n",
            "390/390 [==============================] - 24s 60ms/step - loss: 2.2560 - accuracy: 0.4126 - val_loss: 2.2896 - val_accuracy: 0.4115\n",
            "Epoch 2/50\n",
            "390/390 [==============================] - 22s 57ms/step - loss: 2.2134 - accuracy: 0.4236 - val_loss: 2.1916 - val_accuracy: 0.4309\n",
            "Epoch 3/50\n",
            "390/390 [==============================] - 22s 57ms/step - loss: 2.1715 - accuracy: 0.4326 - val_loss: 2.2903 - val_accuracy: 0.4191\n",
            "Epoch 4/50\n",
            "390/390 [==============================] - 22s 57ms/step - loss: 2.1337 - accuracy: 0.4429 - val_loss: 2.1521 - val_accuracy: 0.4486\n",
            "Epoch 5/50\n",
            "390/390 [==============================] - 23s 58ms/step - loss: 2.1057 - accuracy: 0.4472 - val_loss: 2.0366 - val_accuracy: 0.4682\n",
            "Epoch 6/50\n",
            "390/390 [==============================] - 22s 56ms/step - loss: 2.0747 - accuracy: 0.4556 - val_loss: 2.0533 - val_accuracy: 0.4713\n",
            "Epoch 7/50\n",
            "390/390 [==============================] - 22s 56ms/step - loss: 2.0435 - accuracy: 0.4681 - val_loss: 2.2548 - val_accuracy: 0.4329\n",
            "Epoch 8/50\n",
            "390/390 [==============================] - 23s 59ms/step - loss: 2.0299 - accuracy: 0.4680 - val_loss: 2.1722 - val_accuracy: 0.4459\n",
            "Epoch 9/50\n",
            "390/390 [==============================] - 22s 57ms/step - loss: 2.0048 - accuracy: 0.4746 - val_loss: 2.0579 - val_accuracy: 0.4670\n",
            "Epoch 10/50\n",
            "390/390 [==============================] - 22s 57ms/step - loss: 1.9876 - accuracy: 0.4803 - val_loss: 1.9833 - val_accuracy: 0.4873\n",
            "Epoch 11/50\n",
            "390/390 [==============================] - 23s 58ms/step - loss: 1.9666 - accuracy: 0.4853 - val_loss: 1.9733 - val_accuracy: 0.4897\n",
            "Epoch 12/50\n",
            "390/390 [==============================] - 22s 57ms/step - loss: 1.9523 - accuracy: 0.4889 - val_loss: 2.0675 - val_accuracy: 0.4761\n",
            "Epoch 13/50\n",
            "390/390 [==============================] - 22s 57ms/step - loss: 1.9277 - accuracy: 0.4971 - val_loss: 2.2933 - val_accuracy: 0.4415\n",
            "Epoch 14/50\n",
            "390/390 [==============================] - 22s 57ms/step - loss: 1.9179 - accuracy: 0.4979 - val_loss: 2.0508 - val_accuracy: 0.4782\n",
            "Epoch 15/50\n",
            "390/390 [==============================] - 22s 56ms/step - loss: 1.9022 - accuracy: 0.5030 - val_loss: 2.0553 - val_accuracy: 0.4836\n",
            "Epoch 16/50\n",
            "390/390 [==============================] - 23s 58ms/step - loss: 1.8916 - accuracy: 0.5082 - val_loss: 1.9185 - val_accuracy: 0.5055\n",
            "Epoch 17/50\n",
            "390/390 [==============================] - 22s 56ms/step - loss: 1.8861 - accuracy: 0.5088 - val_loss: 2.0725 - val_accuracy: 0.4773\n",
            "Epoch 18/50\n",
            "390/390 [==============================] - 22s 57ms/step - loss: 1.8640 - accuracy: 0.5134 - val_loss: 1.9944 - val_accuracy: 0.4934\n",
            "Epoch 19/50\n",
            "390/390 [==============================] - 22s 57ms/step - loss: 1.8621 - accuracy: 0.5131 - val_loss: 1.9972 - val_accuracy: 0.4980\n",
            "Epoch 20/50\n",
            "390/390 [==============================] - 22s 57ms/step - loss: 1.8495 - accuracy: 0.5157 - val_loss: 2.0577 - val_accuracy: 0.4911\n",
            "Epoch 21/50\n",
            "390/390 [==============================] - 23s 58ms/step - loss: 1.8366 - accuracy: 0.5246 - val_loss: 1.9663 - val_accuracy: 0.5030\n",
            "Epoch 22/50\n",
            "390/390 [==============================] - 23s 59ms/step - loss: 1.8340 - accuracy: 0.5226 - val_loss: 2.0315 - val_accuracy: 0.4945\n",
            "Epoch 23/50\n",
            "390/390 [==============================] - 22s 57ms/step - loss: 1.8224 - accuracy: 0.5254 - val_loss: 2.0384 - val_accuracy: 0.4988\n",
            "Epoch 24/50\n",
            "390/390 [==============================] - 23s 59ms/step - loss: 1.8128 - accuracy: 0.5289 - val_loss: 1.9031 - val_accuracy: 0.5182\n",
            "Epoch 25/50\n",
            "390/390 [==============================] - 23s 58ms/step - loss: 1.8044 - accuracy: 0.5296 - val_loss: 2.0285 - val_accuracy: 0.4936\n",
            "Epoch 26/50\n",
            "390/390 [==============================] - 23s 59ms/step - loss: 1.7983 - accuracy: 0.5354 - val_loss: 1.8967 - val_accuracy: 0.5256\n",
            "Epoch 27/50\n",
            "390/390 [==============================] - 23s 58ms/step - loss: 1.7843 - accuracy: 0.5370 - val_loss: 1.9071 - val_accuracy: 0.5236\n",
            "Epoch 28/50\n",
            "390/390 [==============================] - 22s 57ms/step - loss: 1.7770 - accuracy: 0.5383 - val_loss: 2.0174 - val_accuracy: 0.5037\n",
            "Epoch 29/50\n",
            "390/390 [==============================] - 22s 57ms/step - loss: 1.7726 - accuracy: 0.5402 - val_loss: 2.0252 - val_accuracy: 0.5038\n",
            "Epoch 30/50\n",
            "390/390 [==============================] - 22s 57ms/step - loss: 1.7693 - accuracy: 0.5391 - val_loss: 1.9538 - val_accuracy: 0.5168\n",
            "Epoch 31/50\n",
            "390/390 [==============================] - 22s 56ms/step - loss: 1.7630 - accuracy: 0.5423 - val_loss: 2.0006 - val_accuracy: 0.5069\n",
            "Epoch 32/50\n",
            "390/390 [==============================] - 22s 57ms/step - loss: 1.7518 - accuracy: 0.5469 - val_loss: 1.9213 - val_accuracy: 0.5194\n",
            "Epoch 33/50\n",
            "390/390 [==============================] - 22s 56ms/step - loss: 1.7464 - accuracy: 0.5485 - val_loss: 1.8592 - val_accuracy: 0.5293\n",
            "Epoch 34/50\n",
            "390/390 [==============================] - 22s 57ms/step - loss: 1.7471 - accuracy: 0.5485 - val_loss: 1.9498 - val_accuracy: 0.5214\n",
            "Epoch 35/50\n",
            "390/390 [==============================] - 22s 57ms/step - loss: 1.7404 - accuracy: 0.5498 - val_loss: 2.0210 - val_accuracy: 0.5079\n",
            "Epoch 36/50\n",
            "390/390 [==============================] - 22s 56ms/step - loss: 1.7391 - accuracy: 0.5503 - val_loss: 1.9616 - val_accuracy: 0.5198\n",
            "Epoch 37/50\n",
            "390/390 [==============================] - 22s 57ms/step - loss: 1.7256 - accuracy: 0.5527 - val_loss: 1.9665 - val_accuracy: 0.5153\n",
            "Epoch 38/50\n",
            "390/390 [==============================] - 22s 57ms/step - loss: 1.7158 - accuracy: 0.5567 - val_loss: 1.9092 - val_accuracy: 0.5241\n",
            "Epoch 39/50\n",
            "390/390 [==============================] - 22s 57ms/step - loss: 1.7161 - accuracy: 0.5571 - val_loss: 1.8918 - val_accuracy: 0.5321\n",
            "Epoch 40/50\n",
            "390/390 [==============================] - 22s 57ms/step - loss: 1.7136 - accuracy: 0.5577 - val_loss: 1.8402 - val_accuracy: 0.5449\n",
            "Epoch 41/50\n",
            "390/390 [==============================] - 22s 56ms/step - loss: 1.7102 - accuracy: 0.5601 - val_loss: 1.8834 - val_accuracy: 0.5371\n",
            "Epoch 42/50\n",
            "390/390 [==============================] - 22s 56ms/step - loss: 1.7066 - accuracy: 0.5599 - val_loss: 1.9767 - val_accuracy: 0.5184\n",
            "Epoch 43/50\n",
            "390/390 [==============================] - 22s 57ms/step - loss: 1.7003 - accuracy: 0.5617 - val_loss: 1.8395 - val_accuracy: 0.5404\n",
            "Epoch 44/50\n",
            "390/390 [==============================] - 22s 57ms/step - loss: 1.6958 - accuracy: 0.5605 - val_loss: 1.8777 - val_accuracy: 0.5383\n",
            "Epoch 45/50\n",
            "390/390 [==============================] - 22s 57ms/step - loss: 1.7016 - accuracy: 0.5595 - val_loss: 1.9257 - val_accuracy: 0.5332\n",
            "Epoch 46/50\n",
            "390/390 [==============================] - 22s 57ms/step - loss: 1.6881 - accuracy: 0.5630 - val_loss: 2.0513 - val_accuracy: 0.5119\n",
            "Epoch 47/50\n",
            "390/390 [==============================] - 22s 57ms/step - loss: 1.6837 - accuracy: 0.5640 - val_loss: 1.8608 - val_accuracy: 0.5402\n",
            "Epoch 48/50\n",
            "390/390 [==============================] - 23s 58ms/step - loss: 1.6818 - accuracy: 0.5656 - val_loss: 1.8601 - val_accuracy: 0.5512\n",
            "Epoch 49/50\n",
            "390/390 [==============================] - 22s 57ms/step - loss: 1.6837 - accuracy: 0.5658 - val_loss: 1.9165 - val_accuracy: 0.5390\n",
            "Epoch 50/50\n",
            "390/390 [==============================] - 22s 56ms/step - loss: 1.6730 - accuracy: 0.5692 - val_loss: 1.8081 - val_accuracy: 0.5586\n"
          ],
          "name": "stdout"
        },
        {
          "output_type": "error",
          "ename": "NameError",
          "evalue": "ignored",
          "traceback": [
            "\u001b[0;31m---------------------------------------------------------------------------\u001b[0m",
            "\u001b[0;31mNameError\u001b[0m                                 Traceback (most recent call last)",
            "\u001b[0;32m<ipython-input-32-3a31279273bb>\u001b[0m in \u001b[0;36m<module>\u001b[0;34m()\u001b[0m\n\u001b[1;32m      9\u001b[0m \u001b[0mall_stack_cnn_filter_size4_strid2_resnet_model\u001b[0m\u001b[0;34m.\u001b[0m\u001b[0msave\u001b[0m\u001b[0;34m(\u001b[0m\u001b[0;34m'all_stack_cnn_filter_size4_strid2_resnet_model.h5'\u001b[0m\u001b[0;34m)\u001b[0m\u001b[0;34m\u001b[0m\u001b[0;34m\u001b[0m\u001b[0m\n\u001b[1;32m     10\u001b[0m \u001b[0;34m\u001b[0m\u001b[0m\n\u001b[0;32m---> 11\u001b[0;31m \u001b[0mevaluate\u001b[0m\u001b[0;34m(\u001b[0m\u001b[0mall_stack_cnn_filter_size4_strid2_model\u001b[0m\u001b[0;34m,\u001b[0m \u001b[0mhist\u001b[0m\u001b[0;34m,\u001b[0m \u001b[0;34m'output/all_stack_cnn_filter_size4_strid2_resnet.png'\u001b[0m\u001b[0;34m)\u001b[0m\u001b[0;34m\u001b[0m\u001b[0;34m\u001b[0m\u001b[0m\n\u001b[0m",
            "\u001b[0;31mNameError\u001b[0m: name 'all_stack_cnn_filter_size4_strid2_model' is not defined"
          ]
        }
      ]
    },
    {
      "cell_type": "code",
      "metadata": {
        "id": "onBR_1J3KgtX",
        "colab_type": "code",
        "outputId": "31c95989-714f-4a8a-c3af-90cc95c64c13",
        "colab": {
          "base_uri": "https://localhost:8080/",
          "height": 34
        }
      },
      "source": [
        "!ls"
      ],
      "execution_count": 6,
      "outputs": [
        {
          "output_type": "stream",
          "text": [
            "sample_data\n"
          ],
          "name": "stdout"
        }
      ]
    },
    {
      "cell_type": "code",
      "metadata": {
        "id": "FMYuUQo4uxhD",
        "colab_type": "code",
        "colab": {}
      },
      "source": [
        ""
      ],
      "execution_count": 0,
      "outputs": []
    }
  ]
}